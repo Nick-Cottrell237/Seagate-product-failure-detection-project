{
  "nbformat": 4,
  "nbformat_minor": 0,
  "metadata": {
    "colab": {
      "name": "seagate group colab.ipynb",
      "provenance": []
    },
    "kernelspec": {
      "name": "python3",
      "display_name": "Python 3"
    }
  },
  "cells": [
    {
      "cell_type": "code",
      "metadata": {
        "id": "Hb4uM_M85qfE",
        "colab_type": "code",
        "outputId": "d3bf890b-677c-4d55-9fee-02f88bc056d6",
        "colab": {
          "base_uri": "https://localhost:8080/",
          "height": 122
        }
      },
      "source": [
        "from google.colab import drive\n",
        "drive.mount('/content/drive')"
      ],
      "execution_count": 0,
      "outputs": [
        {
          "output_type": "stream",
          "text": [
            "Go to this URL in a browser: https://accounts.google.com/o/oauth2/auth?client_id=947318989803-6bn6qk8qdgf4n4g3pfee6491hc0brc4i.apps.googleusercontent.com&redirect_uri=urn%3aietf%3awg%3aoauth%3a2.0%3aoob&response_type=code&scope=email%20https%3a%2f%2fwww.googleapis.com%2fauth%2fdocs.test%20https%3a%2f%2fwww.googleapis.com%2fauth%2fdrive%20https%3a%2f%2fwww.googleapis.com%2fauth%2fdrive.photos.readonly%20https%3a%2f%2fwww.googleapis.com%2fauth%2fpeopleapi.readonly\n",
            "\n",
            "Enter your authorization code:\n",
            "··········\n",
            "Mounted at /content/drive\n"
          ],
          "name": "stdout"
        }
      ]
    },
    {
      "cell_type": "code",
      "metadata": {
        "id": "IQ5A7MVxq9w7",
        "colab_type": "code",
        "outputId": "756791ba-f73d-4823-c818-deb212262a9b",
        "colab": {
          "base_uri": "https://localhost:8080/",
          "height": 71
        }
      },
      "source": [
        "import pandas as pd\n",
        "seagate= pd.read_csv('/content/drive/My Drive/Colab Notebooks/Seagate/seagate_2.csv')"
      ],
      "execution_count": 0,
      "outputs": [
        {
          "output_type": "stream",
          "text": [
            "/usr/local/lib/python3.6/dist-packages/IPython/core/interactiveshell.py:2718: DtypeWarning: Columns (12,13,14,15,16,17,18,19,20,21,22,23,24,25,26,27,28,29,30,31,32,33,34,35,36,37,38,39,41,42,43,44,45,46,47,48,49,50,51,52,53,54,55,56,57,58,59,60,61,62,63,64,65,66,67,68,69,70,71,72,73,74,75,76,77,78,79,80,81,82,83,84,85,86,87,88,89,90,91,92,93,94,95,96,97,98,99,100,101,102,103,104,105,106,107,108,109,110,111,113,114,115,116,117,118,119,120,121,122,123,124,125,126,127,128,129,130,131,132,133,134,135,136,137,138,139,140,141,142,143,144,145,146,147,148,149,150,151,152,153,154,155,156,157,158,159,160,161,162,163,164,165) have mixed types.Specify dtype option on import or set low_memory=False.\n",
            "  interactivity=interactivity, compiler=compiler, result=result)\n"
          ],
          "name": "stderr"
        }
      ]
    },
    {
      "cell_type": "markdown",
      "metadata": {
        "id": "awOII3IKTFk3",
        "colab_type": "text"
      },
      "source": [
        "# Correlations"
      ]
    },
    {
      "cell_type": "code",
      "metadata": {
        "id": "CbM4bwO2qoaG",
        "colab_type": "code",
        "outputId": "ef75c0b9-0827-41bd-e45e-6736e439b508",
        "colab": {
          "base_uri": "https://localhost:8080/",
          "height": 1000
        }
      },
      "source": [
        "pd.set_option('max_rows', 1000)\n",
        "c=seagate.corr(method=\"spearman\").abs()\n",
        "\n",
        "s = c.unstack()\n",
        "so = s.sort_values(kind=\"quicksort\")\n",
        "\n",
        "print(so[2000:2550])"
      ],
      "execution_count": 0,
      "outputs": [
        {
          "output_type": "stream",
          "text": [
            "mtrprm17_parameter1    mtrprm8_parameter1       0.109768\n",
            "mtrprm8_parameter1     mtrprm17_parameter1      0.109768\n",
            "mtrprm3_parameter5     mtrprm9_parameter3       0.110026\n",
            "mtrprm9_parameter3     mtrprm3_parameter5       0.110026\n",
            "mtrprm_motor_line_num  mtrprm19_parameter1      0.111293\n",
            "mtrprm19_parameter1    mtrprm_motor_line_num    0.111293\n",
            "hkpinp3_parameter1     hkpinp4_parameter3       0.111872\n",
            "hkpinp4_parameter3     hkpinp3_parameter1       0.111872\n",
            "mtrprm3_parameter5     mtrprm8_parameter1       0.115277\n",
            "mtrprm8_parameter1     mtrprm3_parameter5       0.115277\n",
            "mtrprm9_parameter3     mtrprm3_parameter1       0.116970\n",
            "mtrprm3_parameter1     mtrprm9_parameter3       0.116970\n",
            "mtrprm2_parameter3     mtrprm6_parameter1       0.118220\n",
            "mtrprm6_parameter1     mtrprm2_parameter3       0.118220\n",
            "mtrprm3_parameter1     mtrprm8_parameter1       0.120753\n",
            "mtrprm8_parameter1     mtrprm3_parameter1       0.120753\n",
            "mtrprm3_parameter1     mtrprm21_parameter2      0.123711\n",
            "mtrprm21_parameter2    mtrprm3_parameter1       0.123711\n",
            "mtrprm4_parameter1     mtrprm9_parameter2       0.124477\n",
            "mtrprm9_parameter2     mtrprm4_parameter1       0.124477\n",
            "                       mtrprm2_parameter1       0.125235\n",
            "mtrprm2_parameter1     mtrprm9_parameter2       0.125235\n",
            "mtrprm19_parameter1    mtrprm9_parameter2       0.130468\n",
            "mtrprm9_parameter2     mtrprm19_parameter1      0.130468\n",
            "mtrprm21_parameter2    mtrprm19_parameter1      0.130866\n",
            "mtrprm19_parameter1    mtrprm21_parameter2      0.130866\n",
            "mtrprm_motor_line_num  mtrprm6_parameter1       0.134733\n",
            "mtrprm6_parameter1     mtrprm_motor_line_num    0.134733\n",
            "mtrprm_motor_line_num  mtrprm2_parameter1       0.140518\n",
            "mtrprm2_parameter1     mtrprm_motor_line_num    0.140518\n",
            "mtrprm21_parameter2    mtrprm3_parameter5       0.140795\n",
            "mtrprm3_parameter5     mtrprm21_parameter2      0.140795\n",
            "hkpinp2_parameter1     hkpinp4_parameter1       0.145171\n",
            "hkpinp4_parameter1     hkpinp2_parameter1       0.145171\n",
            "hkpinp2_parameter1     hkpinp4_parameter5       0.148506\n",
            "hkpinp4_parameter5     hkpinp2_parameter1       0.148506\n",
            "hkpinp2_parameter1     hkpinp4_parameter3       0.149420\n",
            "hkpinp4_parameter3     hkpinp2_parameter1       0.149420\n",
            "hkpinp4_parameter11    hkpinp2_parameter1       0.151003\n",
            "hkpinp2_parameter1     hkpinp4_parameter11      0.151003\n",
            "mtrprm21_parameter2    mtrprm17_parameter1      0.151150\n",
            "mtrprm17_parameter1    mtrprm21_parameter2      0.151150\n",
            "mtrprm9_parameter2     mtrprm24_parameter3      0.151706\n",
            "mtrprm24_parameter3    mtrprm9_parameter2       0.151706\n",
            "hkpinp2_parameter1     hkpinp4_parameter17      0.152023\n",
            "hkpinp4_parameter17    hkpinp2_parameter1       0.152023\n",
            "hkpinp4_parameter9     hkpinp2_parameter1       0.152427\n",
            "hkpinp2_parameter1     hkpinp4_parameter9       0.152427\n",
            "hkpinp4_parameter15    hkpinp2_parameter1       0.152952\n",
            "hkpinp2_parameter1     hkpinp4_parameter15      0.152952\n",
            "mtrprm_ship_date       mtrprm4_parameter1       0.153009\n",
            "mtrprm4_parameter1     mtrprm_ship_date         0.153009\n",
            "mtrprm3_parameter5     mtrprm_motor_line_num    0.153540\n",
            "mtrprm_motor_line_num  mtrprm3_parameter5       0.153540\n",
            "mtrprm24_parameter2    mtrprm9_parameter2       0.153781\n",
            "mtrprm9_parameter2     mtrprm24_parameter2      0.153781\n",
            "hkpinp4_parameter7     hkpinp2_parameter1       0.153972\n",
            "hkpinp2_parameter1     hkpinp4_parameter7       0.153972\n",
            "mtrprm_ship_date       run_type                 0.155130\n",
            "run_type               mtrprm_ship_date         0.155130\n",
            "mtrprm9_parameter2     mtrprm20_parameter2      0.156737\n",
            "mtrprm20_parameter2    mtrprm9_parameter2       0.156737\n",
            "mtrprm9_parameter2     mtrprm17_parameter1      0.157403\n",
            "mtrprm17_parameter1    mtrprm9_parameter2       0.157403\n",
            "mtrprm8_parameter1     mtrprm21_parameter2      0.157588\n",
            "mtrprm21_parameter2    mtrprm8_parameter1       0.157588\n",
            "hkpinp4_parameter13    hkpinp2_parameter1       0.157788\n",
            "hkpinp2_parameter1     hkpinp4_parameter13      0.157788\n",
            "mtrprm_motor_line_num  mtrprm3_parameter1       0.158356\n",
            "mtrprm3_parameter1     mtrprm_motor_line_num    0.158356\n",
            "mtrprm_motor_line_num  mtrprm2_parameter4       0.158663\n",
            "mtrprm2_parameter4     mtrprm_motor_line_num    0.158663\n",
            "mtrprm9_parameter2     mtrprm24_parameter4      0.160693\n",
            "mtrprm24_parameter4    mtrprm9_parameter2       0.160693\n",
            "mtrprm20_parameter1    mtrprm9_parameter2       0.162480\n",
            "mtrprm9_parameter2     mtrprm20_parameter1      0.162480\n",
            "mtrprm20_parameter1    mtrprm21_parameter2      0.162746\n",
            "mtrprm21_parameter2    mtrprm20_parameter1      0.162746\n",
            "mtrprm2_parameter3     mtrprm20_parameter2      0.164051\n",
            "mtrprm20_parameter2    mtrprm2_parameter3       0.164051\n",
            "mtrprm3_parameter5     mtrprm9_parameter2       0.164616\n",
            "mtrprm9_parameter2     mtrprm3_parameter5       0.164616\n",
            "                       mtrprm3_parameter1       0.165802\n",
            "mtrprm3_parameter1     mtrprm9_parameter2       0.165802\n",
            "hkpinp2_parameter1     hkpinp4_parameter12      0.166895\n",
            "hkpinp4_parameter12    hkpinp2_parameter1       0.166895\n",
            "hkpinp4_parameter2     hkpinp2_parameter1       0.169082\n",
            "hkpinp2_parameter1     hkpinp4_parameter2       0.169082\n",
            "mtrprm21_parameter2    mtrprm_motor_line_num    0.171673\n",
            "mtrprm_motor_line_num  mtrprm21_parameter2      0.171673\n",
            "hkpinp4_parameter8     hkpinp2_parameter1       0.171895\n",
            "hkpinp2_parameter1     hkpinp4_parameter8       0.171895\n",
            "                       hkpinp4_parameter10      0.173632\n",
            "hkpinp4_parameter10    hkpinp2_parameter1       0.173632\n",
            "mtrprm_motor_line_num  mtrprm8_parameter1       0.174027\n",
            "mtrprm8_parameter1     mtrprm_motor_line_num    0.174027\n",
            "hkpinp4_parameter4     hkpinp2_parameter1       0.174043\n",
            "hkpinp2_parameter1     hkpinp4_parameter4       0.174043\n",
            "                       hkpinp4_parameter16      0.174466\n",
            "hkpinp4_parameter16    hkpinp2_parameter1       0.174466\n",
            "mtrprm6_parameter1     mtrprm9_parameter1       0.174809\n",
            "mtrprm9_parameter1     mtrprm6_parameter1       0.174809\n",
            "hkpinp2_parameter1     hkpinp4_parameter14      0.174840\n",
            "hkpinp4_parameter14    hkpinp2_parameter1       0.174840\n",
            "hkpinp4_parameter18    hkpinp2_parameter1       0.176501\n",
            "hkpinp2_parameter1     hkpinp4_parameter18      0.176501\n",
            "mtrprm21_parameter2    mtrprm24_parameter3      0.177175\n",
            "mtrprm24_parameter3    mtrprm21_parameter2      0.177175\n",
            "mtrprm20_parameter2    mtrprm21_parameter2      0.178889\n",
            "mtrprm21_parameter2    mtrprm20_parameter2      0.178889\n",
            "hkpinp2_parameter1     hkpinp4_parameter6       0.179636\n",
            "hkpinp4_parameter6     hkpinp2_parameter1       0.179636\n",
            "mtrprm21_parameter2    mtrprm24_parameter2      0.179646\n",
            "mtrprm24_parameter2    mtrprm21_parameter2      0.179646\n",
            "mtrprm21_parameter2    mtrprm24_parameter4      0.181605\n",
            "mtrprm24_parameter4    mtrprm21_parameter2      0.181605\n",
            "mtrprm2_parameter3     mtrprm20_parameter1      0.182317\n",
            "mtrprm20_parameter1    mtrprm2_parameter3       0.182317\n",
            "mtrprm_motor_line_num  mtrprm17_parameter1      0.185891\n",
            "mtrprm17_parameter1    mtrprm_motor_line_num    0.185891\n",
            "mtrprm4_parameter1     mtrprm_motor_line_num    0.195663\n",
            "mtrprm_motor_line_num  mtrprm4_parameter1       0.195663\n",
            "mtrprm2_parameter4     mtrprm6_parameter1       0.199553\n",
            "mtrprm6_parameter1     mtrprm2_parameter4       0.199553\n",
            "mtrprm9_parameter3     mtrprm9_parameter2       0.200130\n",
            "mtrprm9_parameter2     mtrprm9_parameter3       0.200130\n",
            "mtrprm8_parameter2     mtrprm24_parameter4      0.206509\n",
            "mtrprm24_parameter4    mtrprm8_parameter2       0.206509\n",
            "mtrprm11_parameter1    mtrprm4_parameter1       0.231561\n",
            "mtrprm4_parameter1     mtrprm11_parameter1      0.231561\n",
            "mtrprm8_parameter2     mtrprm24_parameter2      0.235671\n",
            "mtrprm24_parameter2    mtrprm8_parameter2       0.235671\n",
            "mtrprm11_parameter1    mtrprm19_parameter1      0.236614\n",
            "mtrprm19_parameter1    mtrprm11_parameter1      0.236614\n",
            "mtrprm8_parameter2     mtrprm24_parameter3      0.242123\n",
            "mtrprm24_parameter3    mtrprm8_parameter2       0.242123\n",
            "mtrprm8_parameter2     mtrprm_motor_line_num    0.243726\n",
            "mtrprm_motor_line_num  mtrprm8_parameter2       0.243726\n",
            "mtrprm4_parameter1     mtrprm6_parameter1       0.290983\n",
            "mtrprm6_parameter1     mtrprm4_parameter1       0.290983\n",
            "                       mtrprm2_parameter1       0.292742\n",
            "mtrprm2_parameter1     mtrprm6_parameter1       0.292742\n",
            "mtrprm2_parameter4     mtrprm9_parameter1       0.296746\n",
            "mtrprm9_parameter1     mtrprm2_parameter4       0.296746\n",
            "mtrprm24_parameter3    mtrprm6_parameter1       0.302713\n",
            "mtrprm6_parameter1     mtrprm24_parameter3      0.302713\n",
            "                       mtrprm24_parameter2      0.305645\n",
            "mtrprm24_parameter2    mtrprm6_parameter1       0.305645\n",
            "mtrprm24_parameter4    mtrprm6_parameter1       0.318042\n",
            "mtrprm6_parameter1     mtrprm24_parameter4      0.318042\n",
            "mtrprm20_parameter1    mtrprm_motor_line_num    0.347421\n",
            "mtrprm_motor_line_num  mtrprm20_parameter1      0.347421\n",
            "mtrprm_ship_date       event_date               0.348976\n",
            "event_date             mtrprm_ship_date         0.348976\n",
            "mtrprm6_parameter1     mtrprm20_parameter1      0.353110\n",
            "mtrprm20_parameter1    mtrprm6_parameter1       0.353110\n",
            "mtrprm6_parameter1     mtrprm20_parameter2      0.354639\n",
            "mtrprm20_parameter2    mtrprm6_parameter1       0.354639\n",
            "mtrprm19_parameter1    mtrprm6_parameter1       0.358256\n",
            "mtrprm6_parameter1     mtrprm19_parameter1      0.358256\n",
            "mtrprm_motor_line_num  mtrprm20_parameter2      0.364454\n",
            "mtrprm20_parameter2    mtrprm_motor_line_num    0.364454\n",
            "mtrprm20_parameter1    mtrprm9_parameter1       0.367237\n",
            "mtrprm9_parameter1     mtrprm20_parameter1      0.367237\n",
            "mtrprm20_parameter2    mtrprm9_parameter1       0.368795\n",
            "mtrprm9_parameter1     mtrprm20_parameter2      0.368795\n",
            "mtrprm4_parameter1     mtrprm9_parameter1       0.370576\n",
            "mtrprm9_parameter1     mtrprm4_parameter1       0.370576\n",
            "mtrprm24_parameter4    mtrprm_motor_line_num    0.371120\n",
            "mtrprm_motor_line_num  mtrprm24_parameter4      0.371120\n",
            "mtrprm4_parameter1     mtrprm2_parameter3       0.374226\n",
            "mtrprm2_parameter3     mtrprm4_parameter1       0.374226\n",
            "mtrprm19_parameter1    mtrprm9_parameter1       0.374925\n",
            "mtrprm9_parameter1     mtrprm19_parameter1      0.374925\n",
            "mtrprm2_parameter3     mtrprm19_parameter1      0.377376\n",
            "mtrprm19_parameter1    mtrprm2_parameter3       0.377376\n",
            "mtrprm2_parameter1     mtrprm9_parameter1       0.378735\n",
            "mtrprm9_parameter1     mtrprm2_parameter1       0.378735\n",
            "mtrprm24_parameter2    mtrprm_motor_line_num    0.388943\n",
            "mtrprm_motor_line_num  mtrprm24_parameter2      0.388943\n",
            "mtrprm6_parameter1     mtrprm3_parameter1       0.392204\n",
            "mtrprm3_parameter1     mtrprm6_parameter1       0.392204\n",
            "mtrprm3_parameter5     mtrprm6_parameter1       0.394528\n",
            "mtrprm6_parameter1     mtrprm3_parameter5       0.394528\n",
            "mtrprm_motor_line_num  mtrprm24_parameter3      0.412007\n",
            "mtrprm24_parameter3    mtrprm_motor_line_num    0.412007\n",
            "mtrprm6_parameter1     mtrprm17_parameter1      0.417488\n",
            "mtrprm17_parameter1    mtrprm6_parameter1       0.417488\n",
            "mtrprm9_parameter1     mtrprm24_parameter4      0.435278\n",
            "mtrprm24_parameter4    mtrprm9_parameter1       0.435278\n",
            "mtrprm24_parameter2    mtrprm9_parameter1       0.436205\n",
            "mtrprm9_parameter1     mtrprm24_parameter2      0.436205\n",
            "mtrprm24_parameter3    mtrprm9_parameter1       0.439862\n",
            "mtrprm9_parameter1     mtrprm24_parameter3      0.439862\n",
            "mtrprm2_parameter1     mtrprm2_parameter4       0.452467\n",
            "mtrprm2_parameter4     mtrprm2_parameter1       0.452467\n",
            "                       mtrprm4_parameter1       0.469683\n",
            "mtrprm4_parameter1     mtrprm2_parameter4       0.469683\n",
            "mtrprm9_parameter1     mtrprm17_parameter1      0.469719\n",
            "mtrprm17_parameter1    mtrprm9_parameter1       0.469719\n",
            "mtrprm2_parameter4     mtrprm19_parameter1      0.482257\n",
            "mtrprm19_parameter1    mtrprm2_parameter4       0.482257\n",
            "mtrprm3_parameter5     mtrprm9_parameter1       0.496624\n",
            "mtrprm9_parameter1     mtrprm3_parameter5       0.496624\n",
            "mtrprm3_parameter1     mtrprm9_parameter1       0.507543\n",
            "mtrprm9_parameter1     mtrprm3_parameter1       0.507543\n",
            "mtrprm9_parameter3     mtrprm9_parameter1       0.509942\n",
            "mtrprm9_parameter1     mtrprm9_parameter3       0.509942\n",
            "mtrprm2_parameter4     mtrprm20_parameter2      0.527838\n",
            "mtrprm20_parameter2    mtrprm2_parameter4       0.527838\n",
            "mtrprm2_parameter4     mtrprm20_parameter1      0.529095\n",
            "mtrprm20_parameter1    mtrprm2_parameter4       0.529095\n",
            "mtrprm11_parameter1    mtrprm2_parameter3       0.540429\n",
            "mtrprm2_parameter3     mtrprm11_parameter1      0.540429\n",
            "mtrprm24_parameter3    mtrprm2_parameter4       0.543771\n",
            "mtrprm2_parameter4     mtrprm24_parameter3      0.543771\n",
            "mtrprm2_parameter1     mtrprm19_parameter1      0.546867\n",
            "mtrprm19_parameter1    mtrprm2_parameter1       0.546867\n",
            "mtrprm24_parameter2    mtrprm2_parameter4       0.547487\n",
            "mtrprm2_parameter4     mtrprm24_parameter2      0.547487\n",
            "mtrprm24_parameter4    mtrprm2_parameter4       0.547706\n",
            "mtrprm2_parameter4     mtrprm24_parameter4      0.547706\n",
            "mtrprm4_parameter1     mtrprm2_parameter1       0.556399\n",
            "mtrprm2_parameter1     mtrprm4_parameter1       0.556399\n",
            "mtrprm3_parameter1     mtrprm2_parameter4       0.579319\n",
            "mtrprm2_parameter4     mtrprm3_parameter1       0.579319\n",
            "mtrprm3_parameter5     mtrprm2_parameter4       0.583888\n",
            "mtrprm2_parameter4     mtrprm3_parameter5       0.583888\n",
            "mtrprm20_parameter1    mtrprm2_parameter1       0.606422\n",
            "mtrprm2_parameter1     mtrprm20_parameter1      0.606422\n",
            "                       mtrprm20_parameter2      0.608119\n",
            "mtrprm20_parameter2    mtrprm2_parameter1       0.608119\n",
            "mtrprm2_parameter4     mtrprm17_parameter1      0.618530\n",
            "mtrprm17_parameter1    mtrprm2_parameter4       0.618530\n",
            "mtrprm20_parameter2    mtrprm4_parameter1       0.621619\n",
            "mtrprm4_parameter1     mtrprm20_parameter2      0.621619\n",
            "mtrprm2_parameter1     mtrprm24_parameter4      0.629426\n",
            "mtrprm24_parameter4    mtrprm2_parameter1       0.629426\n",
            "mtrprm24_parameter3    mtrprm2_parameter1       0.632679\n",
            "mtrprm2_parameter1     mtrprm24_parameter3      0.632679\n",
            "mtrprm24_parameter2    mtrprm2_parameter1       0.633107\n",
            "mtrprm2_parameter1     mtrprm24_parameter2      0.633107\n",
            "mtrprm4_parameter1     mtrprm20_parameter1      0.634612\n",
            "mtrprm20_parameter1    mtrprm4_parameter1       0.634612\n",
            "mtrprm20_parameter2    mtrprm19_parameter1      0.641397\n",
            "mtrprm19_parameter1    mtrprm20_parameter2      0.641397\n",
            "mtrprm20_parameter1    mtrprm19_parameter1      0.652881\n",
            "mtrprm19_parameter1    mtrprm20_parameter1      0.652881\n",
            "mtrprm2_parameter1     mtrprm3_parameter5       0.664794\n",
            "mtrprm3_parameter5     mtrprm2_parameter1       0.664794\n",
            "mtrprm3_parameter1     mtrprm2_parameter1       0.664923\n",
            "mtrprm2_parameter1     mtrprm3_parameter1       0.664923\n",
            "mtrprm4_parameter1     mtrprm3_parameter1       0.681268\n",
            "mtrprm3_parameter1     mtrprm4_parameter1       0.681268\n",
            "mtrprm3_parameter5     mtrprm4_parameter1       0.682525\n",
            "mtrprm4_parameter1     mtrprm3_parameter5       0.682525\n",
            "mtrprm2_parameter1     mtrprm17_parameter1      0.701075\n",
            "mtrprm17_parameter1    mtrprm2_parameter1       0.701075\n",
            "mtrprm19_parameter1    mtrprm3_parameter5       0.711663\n",
            "mtrprm3_parameter5     mtrprm19_parameter1      0.711663\n",
            "mtrprm3_parameter1     mtrprm19_parameter1      0.712650\n",
            "mtrprm19_parameter1    mtrprm3_parameter1       0.712650\n",
            "                       mtrprm24_parameter3      0.723672\n",
            "mtrprm24_parameter3    mtrprm19_parameter1      0.723672\n",
            "mtrprm17_parameter1    mtrprm4_parameter1       0.726101\n",
            "mtrprm4_parameter1     mtrprm17_parameter1      0.726101\n",
            "mtrprm19_parameter1    mtrprm24_parameter2      0.726594\n",
            "mtrprm24_parameter2    mtrprm19_parameter1      0.726594\n",
            "mtrprm4_parameter1     mtrprm24_parameter4      0.728652\n",
            "mtrprm24_parameter4    mtrprm4_parameter1       0.728652\n",
            "hkpinp4_parameter16    hkpinp4_parameter9       0.729876\n",
            "hkpinp4_parameter9     hkpinp4_parameter16      0.729876\n",
            "hkpinp4_parameter16    hkpinp4_parameter3       0.730566\n",
            "hkpinp4_parameter3     hkpinp4_parameter16      0.730566\n",
            "hkpinp4_parameter17    hkpinp4_parameter2       0.731587\n",
            "hkpinp4_parameter2     hkpinp4_parameter17      0.731587\n",
            "mtrprm4_parameter1     mtrprm24_parameter2      0.731910\n",
            "mtrprm24_parameter2    mtrprm4_parameter1       0.731910\n",
            "mtrprm19_parameter1    mtrprm24_parameter4      0.732942\n",
            "mtrprm24_parameter4    mtrprm19_parameter1      0.732942\n",
            "mtrprm24_parameter3    mtrprm4_parameter1       0.733136\n",
            "mtrprm4_parameter1     mtrprm24_parameter3      0.733136\n",
            "hkpinp4_parameter5     hkpinp4_parameter16      0.733632\n",
            "hkpinp4_parameter16    hkpinp4_parameter5       0.733632\n",
            "hkpinp4_parameter17    hkpinp4_parameter4       0.733791\n",
            "hkpinp4_parameter4     hkpinp4_parameter17      0.733791\n",
            "hkpinp4_parameter17    hkpinp4_parameter8       0.734080\n",
            "hkpinp4_parameter8     hkpinp4_parameter17      0.734080\n",
            "hkpinp4_parameter15    hkpinp4_parameter2       0.735716\n",
            "hkpinp4_parameter2     hkpinp4_parameter15      0.735716\n",
            "hkpinp4_parameter14    hkpinp4_parameter9       0.735863\n",
            "hkpinp4_parameter9     hkpinp4_parameter14      0.735863\n",
            "hkpinp4_parameter15    hkpinp4_parameter8       0.736559\n",
            "hkpinp4_parameter8     hkpinp4_parameter15      0.736559\n",
            "hkpinp4_parameter7     hkpinp4_parameter16      0.736791\n",
            "hkpinp4_parameter16    hkpinp4_parameter7       0.736791\n",
            "hkpinp4_parameter1     hkpinp4_parameter16      0.736799\n",
            "hkpinp4_parameter16    hkpinp4_parameter1       0.736799\n",
            "hkpinp4_parameter6     hkpinp4_parameter17      0.737359\n",
            "hkpinp4_parameter17    hkpinp4_parameter6       0.737359\n",
            "hkpinp4_parameter4     hkpinp4_parameter15      0.737364\n",
            "hkpinp4_parameter15    hkpinp4_parameter4       0.737364\n",
            "hkpinp4_parameter9     hkpinp4_parameter2       0.739460\n",
            "hkpinp4_parameter2     hkpinp4_parameter9       0.739460\n",
            "hkpinp4_parameter9     hkpinp4_parameter12      0.740739\n",
            "hkpinp4_parameter12    hkpinp4_parameter9       0.740739\n",
            "hkpinp4_parameter11    hkpinp4_parameter8       0.741144\n",
            "hkpinp4_parameter8     hkpinp4_parameter11      0.741144\n",
            "hkpinp4_parameter14    hkpinp4_parameter1       0.741148\n",
            "hkpinp4_parameter1     hkpinp4_parameter14      0.741148\n",
            "hkpinp4_parameter6     hkpinp4_parameter15      0.741817\n",
            "hkpinp4_parameter15    hkpinp4_parameter6       0.741817\n",
            "hkpinp4_parameter11    hkpinp4_parameter16      0.742875\n",
            "hkpinp4_parameter16    hkpinp4_parameter11      0.742875\n",
            "hkpinp4_parameter4     hkpinp4_parameter11      0.743071\n",
            "hkpinp4_parameter11    hkpinp4_parameter4       0.743071\n",
            "hkpinp4_parameter18    hkpinp4_parameter1       0.743084\n",
            "hkpinp4_parameter1     hkpinp4_parameter18      0.743084\n",
            "hkpinp4_parameter5     hkpinp4_parameter14      0.743260\n",
            "hkpinp4_parameter14    hkpinp4_parameter5       0.743260\n",
            "hkpinp4_parameter11    hkpinp4_parameter2       0.743297\n",
            "hkpinp4_parameter2     hkpinp4_parameter11      0.743297\n",
            "hkpinp4_parameter9     hkpinp4_parameter4       0.743481\n",
            "hkpinp4_parameter4     hkpinp4_parameter9       0.743481\n",
            "hkpinp4_parameter9     hkpinp4_parameter18      0.743513\n",
            "hkpinp4_parameter18    hkpinp4_parameter9       0.743513\n",
            "hkpinp4_parameter3     hkpinp4_parameter14      0.743677\n",
            "hkpinp4_parameter14    hkpinp4_parameter3       0.743677\n",
            "hkpinp4_parameter9     hkpinp4_parameter10      0.743955\n",
            "hkpinp4_parameter10    hkpinp4_parameter9       0.743955\n",
            "hkpinp4_parameter12    hkpinp4_parameter3       0.744638\n",
            "hkpinp4_parameter3     hkpinp4_parameter12      0.744638\n",
            "mtrprm24_parameter2    mtrprm20_parameter2      0.745141\n",
            "mtrprm20_parameter2    mtrprm24_parameter2      0.745141\n",
            "hkpinp4_parameter9     hkpinp4_parameter6       0.745454\n",
            "hkpinp4_parameter6     hkpinp4_parameter9       0.745454\n",
            "mtrprm24_parameter2    mtrprm20_parameter1      0.745531\n",
            "mtrprm20_parameter1    mtrprm24_parameter2      0.745531\n",
            "hkpinp4_parameter11    hkpinp4_parameter6       0.745858\n",
            "hkpinp4_parameter6     hkpinp4_parameter11      0.745858\n",
            "hkpinp4_parameter13    hkpinp4_parameter4       0.746110\n",
            "hkpinp4_parameter4     hkpinp4_parameter13      0.746110\n",
            "hkpinp4_parameter12    hkpinp4_parameter5       0.746253\n",
            "hkpinp4_parameter5     hkpinp4_parameter12      0.746253\n",
            "hkpinp4_parameter14    hkpinp4_parameter7       0.746279\n",
            "hkpinp4_parameter7     hkpinp4_parameter14      0.746279\n",
            "hkpinp4_parameter6     hkpinp4_parameter1       0.746430\n",
            "hkpinp4_parameter1     hkpinp4_parameter6       0.746430\n",
            "hkpinp4_parameter13    hkpinp4_parameter8       0.746769\n",
            "hkpinp4_parameter8     hkpinp4_parameter13      0.746769\n",
            "mtrprm20_parameter2    mtrprm24_parameter4      0.747002\n",
            "mtrprm24_parameter4    mtrprm20_parameter2      0.747002\n",
            "hkpinp4_parameter1     hkpinp4_parameter12      0.747108\n",
            "hkpinp4_parameter12    hkpinp4_parameter1       0.747108\n",
            "hkpinp4_parameter8     hkpinp4_parameter3       0.747268\n",
            "hkpinp4_parameter3     hkpinp4_parameter8       0.747268\n",
            "hkpinp4_parameter13    hkpinp4_parameter2       0.747544\n",
            "hkpinp4_parameter2     hkpinp4_parameter13      0.747544\n",
            "mtrprm24_parameter3    mtrprm20_parameter2      0.747583\n",
            "mtrprm20_parameter2    mtrprm24_parameter3      0.747583\n",
            "hkpinp4_parameter12    hkpinp4_parameter7       0.747790\n",
            "hkpinp4_parameter7     hkpinp4_parameter12      0.747790\n",
            "hkpinp4_parameter10    hkpinp4_parameter17      0.747956\n",
            "hkpinp4_parameter17    hkpinp4_parameter10      0.747956\n",
            "mtrprm20_parameter1    mtrprm24_parameter3      0.748035\n",
            "mtrprm24_parameter3    mtrprm20_parameter1      0.748035\n",
            "mtrprm20_parameter1    mtrprm24_parameter4      0.748240\n",
            "mtrprm24_parameter4    mtrprm20_parameter1      0.748240\n",
            "hkpinp4_parameter16    hkpinp4_parameter15      0.748562\n",
            "hkpinp4_parameter15    hkpinp4_parameter16      0.748562\n",
            "hkpinp4_parameter18    hkpinp4_parameter11      0.748632\n",
            "hkpinp4_parameter11    hkpinp4_parameter18      0.748632\n",
            "hkpinp4_parameter8     hkpinp4_parameter1       0.748651\n",
            "hkpinp4_parameter1     hkpinp4_parameter8       0.748651\n",
            "hkpinp4_parameter5     hkpinp4_parameter8       0.748762\n",
            "hkpinp4_parameter8     hkpinp4_parameter5       0.748762\n",
            "hkpinp4_parameter13    hkpinp4_parameter6       0.748922\n",
            "hkpinp4_parameter6     hkpinp4_parameter13      0.748922\n",
            "hkpinp4_parameter18    hkpinp4_parameter5       0.750044\n",
            "hkpinp4_parameter5     hkpinp4_parameter18      0.750044\n",
            "hkpinp4_parameter14    hkpinp4_parameter11      0.750577\n",
            "hkpinp4_parameter11    hkpinp4_parameter14      0.750577\n",
            "hkpinp4_parameter5     hkpinp4_parameter10      0.750617\n",
            "hkpinp4_parameter10    hkpinp4_parameter5       0.750617\n",
            "                       hkpinp4_parameter3       0.751115\n",
            "hkpinp4_parameter3     hkpinp4_parameter10      0.751115\n",
            "hkpinp4_parameter14    hkpinp4_parameter17      0.751149\n",
            "hkpinp4_parameter17    hkpinp4_parameter14      0.751149\n",
            "hkpinp4_parameter10    hkpinp4_parameter1       0.751305\n",
            "hkpinp4_parameter1     hkpinp4_parameter10      0.751305\n",
            "hkpinp4_parameter15    hkpinp4_parameter10      0.752409\n",
            "hkpinp4_parameter10    hkpinp4_parameter15      0.752409\n",
            "hkpinp4_parameter12    hkpinp4_parameter17      0.752590\n",
            "hkpinp4_parameter17    hkpinp4_parameter12      0.752590\n",
            "hkpinp4_parameter8     hkpinp4_parameter7       0.752632\n",
            "hkpinp4_parameter7     hkpinp4_parameter8       0.752632\n",
            "hkpinp4_parameter10    hkpinp4_parameter7       0.753471\n",
            "hkpinp4_parameter7     hkpinp4_parameter10      0.753471\n",
            "hkpinp4_parameter13    hkpinp4_parameter16      0.753612\n",
            "hkpinp4_parameter16    hkpinp4_parameter13      0.753612\n",
            "mtrprm3_parameter5     mtrprm20_parameter1      0.753685\n",
            "mtrprm20_parameter1    mtrprm3_parameter5       0.753685\n",
            "hkpinp4_parameter15    hkpinp4_parameter18      0.753770\n",
            "hkpinp4_parameter18    hkpinp4_parameter15      0.753770\n",
            "mtrprm20_parameter2    mtrprm3_parameter5       0.753986\n",
            "mtrprm3_parameter5     mtrprm20_parameter2      0.753986\n",
            "hkpinp4_parameter2     hkpinp4_parameter1       0.754609\n",
            "hkpinp4_parameter1     hkpinp4_parameter2       0.754609\n",
            "hkpinp4_parameter18    hkpinp4_parameter17      0.754649\n",
            "hkpinp4_parameter17    hkpinp4_parameter18      0.754649\n",
            "hkpinp4_parameter7     hkpinp4_parameter4       0.755658\n",
            "hkpinp4_parameter4     hkpinp4_parameter7       0.755658\n",
            "hkpinp4_parameter15    hkpinp4_parameter12      0.755952\n",
            "hkpinp4_parameter12    hkpinp4_parameter15      0.755952\n",
            "hkpinp4_parameter18    hkpinp4_parameter3       0.756171\n",
            "hkpinp4_parameter3     hkpinp4_parameter18      0.756171\n",
            "hkpinp4_parameter2     hkpinp4_parameter7       0.756201\n",
            "hkpinp4_parameter7     hkpinp4_parameter2       0.756201\n",
            "hkpinp4_parameter18    hkpinp4_parameter7       0.756244\n",
            "hkpinp4_parameter7     hkpinp4_parameter18      0.756244\n",
            "hkpinp4_parameter5     hkpinp4_parameter6       0.756767\n",
            "hkpinp4_parameter6     hkpinp4_parameter5       0.756767\n",
            "hkpinp4_parameter2     hkpinp4_parameter5       0.757155\n",
            "hkpinp4_parameter5     hkpinp4_parameter2       0.757155\n",
            "mtrprm19_parameter1    mtrprm17_parameter1      0.757241\n",
            "mtrprm17_parameter1    mtrprm19_parameter1      0.757241\n",
            "hkpinp4_parameter1     hkpinp4_parameter4       0.757308\n",
            "hkpinp4_parameter4     hkpinp4_parameter1       0.757308\n",
            "hkpinp4_parameter12    hkpinp4_parameter11      0.758146\n",
            "hkpinp4_parameter11    hkpinp4_parameter12      0.758146\n",
            "hkpinp4_parameter18    hkpinp4_parameter13      0.759844\n",
            "hkpinp4_parameter13    hkpinp4_parameter18      0.759844\n",
            "mtrprm20_parameter2    mtrprm3_parameter1       0.760012\n",
            "mtrprm3_parameter1     mtrprm20_parameter2      0.760012\n",
            "hkpinp4_parameter13    hkpinp4_parameter14      0.760124\n",
            "hkpinp4_parameter14    hkpinp4_parameter13      0.760124\n",
            "hkpinp4_parameter3     hkpinp4_parameter6       0.760634\n",
            "hkpinp4_parameter6     hkpinp4_parameter3       0.760634\n",
            "hkpinp4_parameter3     hkpinp4_parameter4       0.760645\n",
            "hkpinp4_parameter4     hkpinp4_parameter3       0.760645\n",
            "hkpinp4_parameter10    hkpinp4_parameter13      0.763853\n",
            "hkpinp4_parameter13    hkpinp4_parameter10      0.763853\n",
            "hkpinp4_parameter17    hkpinp4_parameter1       0.764633\n",
            "hkpinp4_parameter1     hkpinp4_parameter17      0.764633\n",
            "mtrprm20_parameter1    mtrprm3_parameter1       0.765012\n",
            "mtrprm3_parameter1     mtrprm20_parameter1      0.765012\n",
            "hkpinp4_parameter1     hkpinp4_parameter15      0.766466\n",
            "hkpinp4_parameter15    hkpinp4_parameter1       0.766466\n",
            "hkpinp4_parameter1     hkpinp4_parameter9       0.770674\n",
            "hkpinp4_parameter9     hkpinp4_parameter1       0.770674\n",
            "hkpinp4_parameter4     hkpinp4_parameter18      0.773534\n",
            "hkpinp4_parameter18    hkpinp4_parameter4       0.773534\n",
            "                       hkpinp4_parameter2       0.773706\n",
            "hkpinp4_parameter2     hkpinp4_parameter18      0.773706\n",
            "hkpinp4_parameter16    hkpinp4_parameter2       0.773963\n",
            "hkpinp4_parameter2     hkpinp4_parameter16      0.773963\n",
            "hkpinp4_parameter16    hkpinp4_parameter4       0.775689\n",
            "hkpinp4_parameter4     hkpinp4_parameter16      0.775689\n",
            "hkpinp4_parameter13    hkpinp4_parameter1       0.776754\n",
            "hkpinp4_parameter1     hkpinp4_parameter13      0.776754\n",
            "                       hkpinp4_parameter11      0.777218\n",
            "hkpinp4_parameter11    hkpinp4_parameter1       0.777218\n",
            "hkpinp4_parameter1     hkpinp4_parameter7       0.777341\n",
            "hkpinp4_parameter7     hkpinp4_parameter1       0.777341\n",
            "hkpinp4_parameter17    hkpinp4_parameter5       0.777871\n",
            "hkpinp4_parameter5     hkpinp4_parameter17      0.777871\n",
            "hkpinp4_parameter8     hkpinp4_parameter18      0.779696\n",
            "hkpinp4_parameter18    hkpinp4_parameter8       0.779696\n",
            "hkpinp4_parameter17    hkpinp4_parameter3       0.780024\n",
            "hkpinp4_parameter3     hkpinp4_parameter17      0.780024\n",
            "hkpinp4_parameter1     hkpinp4_parameter5       0.781804\n",
            "hkpinp4_parameter5     hkpinp4_parameter1       0.781804\n",
            "hkpinp4_parameter12    hkpinp4_parameter18      0.783009\n",
            "hkpinp4_parameter18    hkpinp4_parameter12      0.783009\n",
            "hkpinp4_parameter16    hkpinp4_parameter6       0.783410\n",
            "hkpinp4_parameter6     hkpinp4_parameter16      0.783410\n",
            "hkpinp4_parameter18    hkpinp4_parameter6       0.783502\n",
            "hkpinp4_parameter6     hkpinp4_parameter18      0.783502\n",
            "hkpinp4_parameter18    hkpinp4_parameter10      0.783680\n",
            "hkpinp4_parameter10    hkpinp4_parameter18      0.783680\n",
            "hkpinp4_parameter16    hkpinp4_parameter18      0.783845\n",
            "hkpinp4_parameter18    hkpinp4_parameter16      0.783845\n",
            "hkpinp4_parameter8     hkpinp4_parameter16      0.784330\n",
            "hkpinp4_parameter16    hkpinp4_parameter8       0.784330\n",
            "hkpinp4_parameter5     hkpinp4_parameter15      0.784333\n",
            "hkpinp4_parameter15    hkpinp4_parameter5       0.784333\n",
            "hkpinp4_parameter3     hkpinp4_parameter15      0.785801\n",
            "hkpinp4_parameter15    hkpinp4_parameter3       0.785801\n",
            "hkpinp4_parameter7     hkpinp4_parameter17      0.786204\n",
            "hkpinp4_parameter17    hkpinp4_parameter7       0.786204\n",
            "hkpinp4_parameter14    hkpinp4_parameter4       0.786774\n",
            "hkpinp4_parameter4     hkpinp4_parameter14      0.786774\n",
            "hkpinp4_parameter14    hkpinp4_parameter2       0.787368\n",
            "hkpinp4_parameter2     hkpinp4_parameter14      0.787368\n",
            "hkpinp4_parameter9     hkpinp4_parameter17      0.787908\n",
            "hkpinp4_parameter17    hkpinp4_parameter9       0.787908\n",
            "hkpinp4_parameter14    hkpinp4_parameter18      0.788052\n",
            "hkpinp4_parameter18    hkpinp4_parameter14      0.788052\n",
            "hkpinp4_parameter9     hkpinp4_parameter3       0.789980\n",
            "hkpinp4_parameter3     hkpinp4_parameter9       0.789980\n",
            "hkpinp4_parameter12    hkpinp4_parameter2       0.790048\n",
            "hkpinp4_parameter2     hkpinp4_parameter12      0.790048\n",
            "hkpinp4_parameter7     hkpinp4_parameter15      0.790689\n",
            "hkpinp4_parameter15    hkpinp4_parameter7       0.790689\n",
            "                       hkpinp4_parameter9       0.791942\n",
            "hkpinp4_parameter9     hkpinp4_parameter15      0.791942\n",
            "hkpinp4_parameter6     hkpinp4_parameter14      0.792021\n",
            "hkpinp4_parameter14    hkpinp4_parameter6       0.792021\n",
            "hkpinp4_parameter4     hkpinp4_parameter12      0.792317\n",
            "hkpinp4_parameter12    hkpinp4_parameter4       0.792317\n",
            "hkpinp4_parameter3     hkpinp4_parameter1       0.793118\n",
            "hkpinp4_parameter1     hkpinp4_parameter3       0.793118\n",
            "hkpinp4_parameter8     hkpinp4_parameter2       0.793318\n",
            "hkpinp4_parameter2     hkpinp4_parameter8       0.793318\n",
            "hkpinp4_parameter8     hkpinp4_parameter12      0.794834\n",
            "hkpinp4_parameter12    hkpinp4_parameter8       0.794834\n",
            "hkpinp4_parameter3     hkpinp4_parameter13      0.794859\n",
            "hkpinp4_parameter13    hkpinp4_parameter3       0.794859\n",
            "hkpinp4_parameter8     hkpinp4_parameter14      0.795270\n",
            "hkpinp4_parameter14    hkpinp4_parameter8       0.795270\n",
            "hkpinp4_parameter11    hkpinp4_parameter17      0.795449\n",
            "hkpinp4_parameter17    hkpinp4_parameter11      0.795449\n",
            "hkpinp4_parameter12    hkpinp4_parameter6       0.795566\n",
            "hkpinp4_parameter6     hkpinp4_parameter12      0.795566\n",
            "hkpinp4_parameter5     hkpinp4_parameter13      0.795745\n",
            "hkpinp4_parameter13    hkpinp4_parameter5       0.795745\n",
            "hkpinp4_parameter16    hkpinp4_parameter10      0.796491\n",
            "hkpinp4_parameter10    hkpinp4_parameter16      0.796491\n",
            "hkpinp4_parameter5     hkpinp4_parameter9       0.797177\n",
            "hkpinp4_parameter9     hkpinp4_parameter5       0.797177\n",
            "hkpinp4_parameter11    hkpinp4_parameter3       0.797351\n",
            "hkpinp4_parameter3     hkpinp4_parameter11      0.797351\n",
            "hkpinp4_parameter9     hkpinp4_parameter11      0.797361\n",
            "hkpinp4_parameter11    hkpinp4_parameter9       0.797361\n",
            "hkpinp4_parameter5     hkpinp4_parameter11      0.797777\n",
            "hkpinp4_parameter11    hkpinp4_parameter5       0.797777\n",
            "hkpinp4_parameter8     hkpinp4_parameter4       0.799620\n",
            "hkpinp4_parameter4     hkpinp4_parameter8       0.799620\n",
            "hkpinp4_parameter11    hkpinp4_parameter7       0.799870\n",
            "hkpinp4_parameter7     hkpinp4_parameter11      0.799870\n",
            "hkpinp4_parameter9     hkpinp4_parameter13      0.799957\n",
            "hkpinp4_parameter13    hkpinp4_parameter9       0.799957\n",
            "hkpinp4_parameter16    hkpinp4_parameter12      0.800214\n",
            "hkpinp4_parameter12    hkpinp4_parameter16      0.800214\n",
            "hkpinp4_parameter10    hkpinp4_parameter8       0.800251\n",
            "hkpinp4_parameter8     hkpinp4_parameter10      0.800251\n",
            "hkpinp4_parameter2     hkpinp4_parameter10      0.800363\n",
            "hkpinp4_parameter10    hkpinp4_parameter2       0.800363\n",
            "hkpinp4_parameter9     hkpinp4_parameter7       0.801457\n",
            "hkpinp4_parameter7     hkpinp4_parameter9       0.801457\n",
            "dtype: float64\n"
          ],
          "name": "stdout"
        }
      ]
    },
    {
      "cell_type": "code",
      "metadata": {
        "id": "NqKydUqVACW0",
        "colab_type": "code",
        "outputId": "30d65884-27d8-4451-ac5b-ee2a5d26f7b9",
        "colab": {
          "base_uri": "https://localhost:8080/",
          "height": 1000
        }
      },
      "source": [
        "print(so[2500:3000])"
      ],
      "execution_count": 0,
      "outputs": [
        {
          "output_type": "stream",
          "text": [
            "hkpinp4_parameter12    hkpinp4_parameter2       0.790048\n",
            "hkpinp4_parameter2     hkpinp4_parameter12      0.790048\n",
            "hkpinp4_parameter7     hkpinp4_parameter15      0.790689\n",
            "hkpinp4_parameter15    hkpinp4_parameter7       0.790689\n",
            "                       hkpinp4_parameter9       0.791942\n",
            "hkpinp4_parameter9     hkpinp4_parameter15      0.791942\n",
            "hkpinp4_parameter6     hkpinp4_parameter14      0.792021\n",
            "hkpinp4_parameter14    hkpinp4_parameter6       0.792021\n",
            "hkpinp4_parameter4     hkpinp4_parameter12      0.792317\n",
            "hkpinp4_parameter12    hkpinp4_parameter4       0.792317\n",
            "hkpinp4_parameter3     hkpinp4_parameter1       0.793118\n",
            "hkpinp4_parameter1     hkpinp4_parameter3       0.793118\n",
            "hkpinp4_parameter8     hkpinp4_parameter2       0.793318\n",
            "hkpinp4_parameter2     hkpinp4_parameter8       0.793318\n",
            "hkpinp4_parameter8     hkpinp4_parameter12      0.794834\n",
            "hkpinp4_parameter12    hkpinp4_parameter8       0.794834\n",
            "hkpinp4_parameter3     hkpinp4_parameter13      0.794859\n",
            "hkpinp4_parameter13    hkpinp4_parameter3       0.794859\n",
            "hkpinp4_parameter8     hkpinp4_parameter14      0.795270\n",
            "hkpinp4_parameter14    hkpinp4_parameter8       0.795270\n",
            "hkpinp4_parameter11    hkpinp4_parameter17      0.795449\n",
            "hkpinp4_parameter17    hkpinp4_parameter11      0.795449\n",
            "hkpinp4_parameter12    hkpinp4_parameter6       0.795566\n",
            "hkpinp4_parameter6     hkpinp4_parameter12      0.795566\n",
            "hkpinp4_parameter5     hkpinp4_parameter13      0.795745\n",
            "hkpinp4_parameter13    hkpinp4_parameter5       0.795745\n",
            "hkpinp4_parameter16    hkpinp4_parameter10      0.796491\n",
            "hkpinp4_parameter10    hkpinp4_parameter16      0.796491\n",
            "hkpinp4_parameter5     hkpinp4_parameter9       0.797177\n",
            "hkpinp4_parameter9     hkpinp4_parameter5       0.797177\n",
            "hkpinp4_parameter11    hkpinp4_parameter3       0.797351\n",
            "hkpinp4_parameter3     hkpinp4_parameter11      0.797351\n",
            "hkpinp4_parameter9     hkpinp4_parameter11      0.797361\n",
            "hkpinp4_parameter11    hkpinp4_parameter9       0.797361\n",
            "hkpinp4_parameter5     hkpinp4_parameter11      0.797777\n",
            "hkpinp4_parameter11    hkpinp4_parameter5       0.797777\n",
            "hkpinp4_parameter8     hkpinp4_parameter4       0.799620\n",
            "hkpinp4_parameter4     hkpinp4_parameter8       0.799620\n",
            "hkpinp4_parameter11    hkpinp4_parameter7       0.799870\n",
            "hkpinp4_parameter7     hkpinp4_parameter11      0.799870\n",
            "hkpinp4_parameter9     hkpinp4_parameter13      0.799957\n",
            "hkpinp4_parameter13    hkpinp4_parameter9       0.799957\n",
            "hkpinp4_parameter16    hkpinp4_parameter12      0.800214\n",
            "hkpinp4_parameter12    hkpinp4_parameter16      0.800214\n",
            "hkpinp4_parameter10    hkpinp4_parameter8       0.800251\n",
            "hkpinp4_parameter8     hkpinp4_parameter10      0.800251\n",
            "hkpinp4_parameter2     hkpinp4_parameter10      0.800363\n",
            "hkpinp4_parameter10    hkpinp4_parameter2       0.800363\n",
            "hkpinp4_parameter9     hkpinp4_parameter7       0.801457\n",
            "hkpinp4_parameter7     hkpinp4_parameter9       0.801457\n",
            "hkpinp4_parameter4     hkpinp4_parameter10      0.801501\n",
            "hkpinp4_parameter10    hkpinp4_parameter4       0.801501\n",
            "                       hkpinp4_parameter6       0.801596\n",
            "hkpinp4_parameter6     hkpinp4_parameter10      0.801596\n",
            "hkpinp4_parameter7     hkpinp4_parameter13      0.802547\n",
            "hkpinp4_parameter13    hkpinp4_parameter7       0.802547\n",
            "hkpinp4_parameter6     hkpinp4_parameter8       0.803637\n",
            "hkpinp4_parameter8     hkpinp4_parameter6       0.803637\n",
            "mtrprm24_parameter4    mtrprm3_parameter5       0.803994\n",
            "mtrprm3_parameter5     mtrprm24_parameter4      0.803994\n",
            "hkpinp4_parameter16    hkpinp4_parameter14      0.804358\n",
            "hkpinp4_parameter14    hkpinp4_parameter16      0.804358\n",
            "hkpinp4_parameter6     hkpinp4_parameter2       0.804516\n",
            "hkpinp4_parameter2     hkpinp4_parameter6       0.804516\n",
            "hkpinp4_parameter7     hkpinp4_parameter3       0.804603\n",
            "hkpinp4_parameter3     hkpinp4_parameter7       0.804603\n",
            "mtrprm3_parameter5     mtrprm24_parameter2      0.804691\n",
            "mtrprm24_parameter2    mtrprm3_parameter5       0.804691\n",
            "mtrprm3_parameter5     mtrprm24_parameter3      0.804693\n",
            "mtrprm24_parameter3    mtrprm3_parameter5       0.804693\n",
            "hkpinp4_parameter13    hkpinp4_parameter17      0.804741\n",
            "hkpinp4_parameter17    hkpinp4_parameter13      0.804741\n",
            "                       hkpinp4_parameter15      0.806220\n",
            "hkpinp4_parameter15    hkpinp4_parameter17      0.806220\n",
            "hkpinp4_parameter12    hkpinp4_parameter10      0.807333\n",
            "hkpinp4_parameter10    hkpinp4_parameter12      0.807333\n",
            "hkpinp4_parameter15    hkpinp4_parameter11      0.807425\n",
            "hkpinp4_parameter11    hkpinp4_parameter15      0.807425\n",
            "hkpinp4_parameter5     hkpinp4_parameter7       0.808578\n",
            "hkpinp4_parameter7     hkpinp4_parameter5       0.808578\n",
            "hkpinp4_parameter10    hkpinp4_parameter14      0.808718\n",
            "hkpinp4_parameter14    hkpinp4_parameter10      0.808718\n",
            "hkpinp4_parameter11    hkpinp4_parameter13      0.808749\n",
            "hkpinp4_parameter13    hkpinp4_parameter11      0.808749\n",
            "mtrprm24_parameter4    mtrprm3_parameter1       0.809083\n",
            "mtrprm3_parameter1     mtrprm24_parameter4      0.809083\n",
            "mtrprm24_parameter2    mtrprm3_parameter1       0.809231\n",
            "mtrprm3_parameter1     mtrprm24_parameter2      0.809231\n",
            "mtrprm24_parameter3    mtrprm3_parameter1       0.809488\n",
            "mtrprm3_parameter1     mtrprm24_parameter3      0.809488\n",
            "hkpinp4_parameter6     hkpinp4_parameter4       0.809982\n",
            "hkpinp4_parameter4     hkpinp4_parameter6       0.809982\n",
            "hkpinp4_parameter14    hkpinp4_parameter12      0.811432\n",
            "hkpinp4_parameter12    hkpinp4_parameter14      0.811432\n",
            "hkpinp4_parameter4     hkpinp4_parameter2       0.812288\n",
            "hkpinp4_parameter2     hkpinp4_parameter4       0.812288\n",
            "hkpinp4_parameter3     hkpinp4_parameter5       0.812608\n",
            "hkpinp4_parameter5     hkpinp4_parameter3       0.812608\n",
            "hkpinp4_parameter13    hkpinp4_parameter15      0.812824\n",
            "hkpinp4_parameter15    hkpinp4_parameter13      0.812824\n",
            "mtrprm20_parameter2    mtrprm17_parameter1      0.851362\n",
            "mtrprm17_parameter1    mtrprm20_parameter2      0.851362\n",
            "                       mtrprm20_parameter1      0.851761\n",
            "mtrprm20_parameter1    mtrprm17_parameter1      0.851761\n",
            "mtrprm24_parameter4    mtrprm17_parameter1      0.858465\n",
            "mtrprm17_parameter1    mtrprm24_parameter4      0.858465\n",
            "                       mtrprm24_parameter2      0.858475\n",
            "mtrprm24_parameter2    mtrprm17_parameter1      0.858475\n",
            "mtrprm17_parameter1    mtrprm24_parameter3      0.858514\n",
            "mtrprm24_parameter3    mtrprm17_parameter1      0.858514\n",
            "mtrprm20_parameter1    mtrprm20_parameter2      0.894000\n",
            "mtrprm20_parameter2    mtrprm20_parameter1      0.894000\n",
            "hkpinp4_parameter17    hkpinp4_parameter16      0.906821\n",
            "hkpinp4_parameter16    hkpinp4_parameter17      0.906821\n",
            "hkpinp4_parameter15    hkpinp4_parameter14      0.907481\n",
            "hkpinp4_parameter14    hkpinp4_parameter15      0.907481\n",
            "hkpinp4_parameter5     hkpinp4_parameter4       0.909095\n",
            "hkpinp4_parameter4     hkpinp4_parameter5       0.909095\n",
            "hkpinp4_parameter11    hkpinp4_parameter10      0.911024\n",
            "hkpinp4_parameter10    hkpinp4_parameter11      0.911024\n",
            "hkpinp4_parameter9     hkpinp4_parameter8       0.911304\n",
            "hkpinp4_parameter8     hkpinp4_parameter9       0.911304\n",
            "hkpinp4_parameter12    hkpinp4_parameter13      0.914257\n",
            "hkpinp4_parameter13    hkpinp4_parameter12      0.914257\n",
            "hkpinp4_parameter2     hkpinp4_parameter3       0.915155\n",
            "hkpinp4_parameter3     hkpinp4_parameter2       0.915155\n",
            "hkpinp4_parameter6     hkpinp4_parameter7       0.917714\n",
            "hkpinp4_parameter7     hkpinp4_parameter6       0.917714\n",
            "mtrprm3_parameter1     mtrprm17_parameter1      0.925469\n",
            "mtrprm17_parameter1    mtrprm3_parameter1       0.925469\n",
            "mtrprm3_parameter5     mtrprm17_parameter1      0.925497\n",
            "mtrprm17_parameter1    mtrprm3_parameter5       0.925497\n",
            "mtrprm3_parameter1     mtrprm3_parameter5       0.962704\n",
            "mtrprm3_parameter5     mtrprm3_parameter1       0.962704\n",
            "mtrprm19_parameter1    mtrprm4_parameter1       0.963656\n",
            "mtrprm4_parameter1     mtrprm19_parameter1      0.963656\n",
            "mtrprm24_parameter4    mtrprm24_parameter3      0.976649\n",
            "mtrprm24_parameter3    mtrprm24_parameter4      0.976649\n",
            "                       mtrprm24_parameter2      0.985648\n",
            "mtrprm24_parameter2    mtrprm24_parameter3      0.985648\n",
            "                       mtrprm24_parameter4      0.989491\n",
            "mtrprm24_parameter4    mtrprm24_parameter2      0.989491\n",
            "Unnamed: 0             Unnamed: 0               1.000000\n",
            "hkpinp4_parameter16    hkpinp4_parameter16      1.000000\n",
            "mtrprm17_parameter1    mtrprm17_parameter1      1.000000\n",
            "mtrprm15_parameter1    mtrprm15_parameter1      1.000000\n",
            "mtrprm12_parameter1    mtrprm12_parameter1      1.000000\n",
            "mtrprm11_parameter1    mtrprm11_parameter1      1.000000\n",
            "mtrprm9_parameter3     mtrprm9_parameter3       1.000000\n",
            "mtrprm9_parameter2     mtrprm9_parameter2       1.000000\n",
            "mtrprm9_parameter1     mtrprm9_parameter1       1.000000\n",
            "mtrprm8_parameter2     mtrprm8_parameter2       1.000000\n",
            "mtrprm8_parameter1     mtrprm8_parameter1       1.000000\n",
            "mtrprm6_parameter1     mtrprm6_parameter1       1.000000\n",
            "mtrprm4_parameter1     mtrprm4_parameter1       1.000000\n",
            "mtrprm3_parameter5     mtrprm3_parameter5       1.000000\n",
            "mtrprm3_parameter1     mtrprm3_parameter1       1.000000\n",
            "mtrprm2_parameter4     mtrprm2_parameter4       1.000000\n",
            "mtrprm2_parameter3     mtrprm2_parameter3       1.000000\n",
            "mtrprm2_parameter1     mtrprm2_parameter1       1.000000\n",
            "run_type               run_type                 1.000000\n",
            "drive_interface        drive_interface          1.000000\n",
            "event_date             event_date               1.000000\n",
            "target                 target                   1.000000\n",
            "X                      X                        1.000000\n",
            "                       Unnamed: 0               1.000000\n",
            "Unnamed: 0             X                        1.000000\n",
            "mtrprm_mfg_date_code   mtrprm_mfg_date_code     1.000000\n",
            "hkpinp4_parameter17    hkpinp4_parameter17      1.000000\n",
            "mtrprm_motor_line_num  mtrprm_motor_line_num    1.000000\n",
            "mtrprm20_parameter1    mtrprm20_parameter1      1.000000\n",
            "hkpinp4_parameter15    hkpinp4_parameter15      1.000000\n",
            "hkpinp4_parameter14    hkpinp4_parameter14      1.000000\n",
            "hkpinp4_parameter13    hkpinp4_parameter13      1.000000\n",
            "hkpinp4_parameter12    hkpinp4_parameter12      1.000000\n",
            "hkpinp4_parameter11    hkpinp4_parameter11      1.000000\n",
            "hkpinp4_parameter10    hkpinp4_parameter10      1.000000\n",
            "hkpinp4_parameter9     hkpinp4_parameter9       1.000000\n",
            "hkpinp4_parameter8     hkpinp4_parameter8       1.000000\n",
            "hkpinp4_parameter7     hkpinp4_parameter7       1.000000\n",
            "hkpinp4_parameter6     hkpinp4_parameter6       1.000000\n",
            "hkpinp4_parameter5     hkpinp4_parameter5       1.000000\n",
            "hkpinp4_parameter4     hkpinp4_parameter4       1.000000\n",
            "hkpinp4_parameter3     hkpinp4_parameter3       1.000000\n",
            "hkpinp4_parameter2     hkpinp4_parameter2       1.000000\n",
            "hkpinp4_parameter1     hkpinp4_parameter1       1.000000\n",
            "hkpinp3_parameter1     hkpinp3_parameter1       1.000000\n",
            "hkpinp2_parameter1     hkpinp2_parameter1       1.000000\n",
            "mtrprm_ship_date       mtrprm_ship_date         1.000000\n",
            "mtrprm24_parameter4    mtrprm24_parameter4      1.000000\n",
            "mtrprm24_parameter3    mtrprm24_parameter3      1.000000\n",
            "mtrprm24_parameter2    mtrprm24_parameter2      1.000000\n",
            "mtrprm21_parameter2    mtrprm21_parameter2      1.000000\n",
            "mtrprm20_parameter2    mtrprm20_parameter2      1.000000\n",
            "mtrprm19_parameter1    mtrprm19_parameter1      1.000000\n",
            "hkpinp4_parameter18    hkpinp4_parameter18      1.000000\n",
            "mtrprm3_parameter1     mtrprm8_parameter2            NaN\n",
            "                       mtrprm_ship_date              NaN\n",
            "mtrprm3_parameter5     mtrprm8_parameter2            NaN\n",
            "                       mtrprm_ship_date              NaN\n",
            "mtrprm8_parameter2     mtrprm3_parameter1            NaN\n",
            "                       mtrprm3_parameter5            NaN\n",
            "mtrprm_ship_date       mtrprm3_parameter1            NaN\n",
            "                       mtrprm3_parameter5            NaN\n",
            "dtype: float64\n"
          ],
          "name": "stdout"
        }
      ]
    },
    {
      "cell_type": "code",
      "metadata": {
        "id": "c5iPB7w6Hnq1",
        "colab_type": "code",
        "colab": {}
      },
      "source": [
        "# remove mtrprm24_parameter4, mtrprm24_parameter3 : keep mtrprm24_parameter2\n",
        "# remove mtrprm19_parameter1 \n",
        "# remove mtrprm3_parameter5, mtrprm17_parameter1 : keep  mtrprm3_parameter1\n",
        "# remove hkpinp4_parameter7 : keep hkpinp4_parameter6    \n",
        "# remove hkpinp4_parameter3 : keep hkpinp4_parameter2\n",
        "# remove hkpinp4_parameter13: keep hkpinp4_parameter12\n",
        "# remove hkpinp4_parameter9 : keep hkpinp4_parameter8\n",
        "# remove hkpinp4_parameter11 : keep hkpinp4_parameter10\n",
        "# remove hkpinp4_parameter5   : keep hkpinp4_parameter4"
      ],
      "execution_count": 0,
      "outputs": []
    },
    {
      "cell_type": "markdown",
      "metadata": {
        "id": "vMGoUfUGlklB",
        "colab_type": "text"
      },
      "source": [
        "# KNN Imputations (k=9)"
      ]
    },
    {
      "cell_type": "code",
      "metadata": {
        "id": "TvaWeaUAlpLN",
        "colab_type": "code",
        "colab": {}
      },
      "source": [
        " # explicitly require this experimental feature\n",
        " from sklearn.experimental import enable_iterative_imputer  # noqa\n",
        " # now you can import normally from sklearn.impute\n",
        " from sklearn.impute import IterativeImputer\n",
        " from sklearn.impute import KNNImputer\n",
        " from sklearn.neighbors import KNeighborsClassifier\n",
        " import csv\n",
        " import pandas as pd\n",
        " import numpy as np"
      ],
      "execution_count": 0,
      "outputs": []
    },
    {
      "cell_type": "code",
      "metadata": {
        "id": "4jNgby2rl14Q",
        "colab_type": "code",
        "colab": {}
      },
      "source": [
        "seagate = pd.read_csv('/content/drive/My Drive/Colab Notebooks/Seagate/seagate_3_clean1.csv')\n",
        "seagate.head()\n",
        "seagate = seagate.drop(columns='Unnamed: 0')"
      ],
      "execution_count": 0,
      "outputs": []
    },
    {
      "cell_type": "code",
      "metadata": {
        "id": "TpwU6MA-l3oA",
        "colab_type": "code",
        "colab": {}
      },
      "source": [
        "# Randomly, split the data into test/training/validation sets\n",
        "import random\n",
        "random.seed(1234)\n",
        "train, test, validate = np.split(seagate.sample(frac=1), [int(.6*len(seagate)), int(.8*len(seagate))])\n",
        "print (train.shape, test.shape, validate.shape)"
      ],
      "execution_count": 0,
      "outputs": []
    },
    {
      "cell_type": "code",
      "metadata": {
        "id": "S6p8uqpBl8JM",
        "colab_type": "code",
        "colab": {}
      },
      "source": [
        "# Separate target and predictors\n",
        "y_train = train['target']\n",
        "x_train = train.drop(['target'], axis=1)\n",
        "y_test = test['target']\n",
        "x_test = test.drop(['target'], axis=1)\n",
        "y_validate = validate['target']\n",
        "x_validate = validate.drop(['target'], axis=1)"
      ],
      "execution_count": 0,
      "outputs": []
    },
    {
      "cell_type": "code",
      "metadata": {
        "id": "hDjyi2VQmBTr",
        "colab_type": "code",
        "colab": {}
      },
      "source": [
        "validate2_imputed = validate2\n",
        "imputer = KNNImputer(n_neighbors=9, weights=\"uniform\")\n",
        "validate2_imputed = imputer.fit_transform(validate2_imputed)\n",
        "validate2_imputed = pd.DataFrame(validate2_imputed)\n",
        "validate2_imputed.columns = validate.columns"
      ],
      "execution_count": 0,
      "outputs": []
    },
    {
      "cell_type": "code",
      "metadata": {
        "id": "L7jG5ngBmITO",
        "colab_type": "code",
        "colab": {}
      },
      "source": [
        "#write out Imputed data without scaling\n",
        "validate2_imputed.to_csv(r'/content/drive/My Drive/Colab Notebooks/Seagate/vatlidate2_imputed_unscaled.csv', index = False, header =True)\n"
      ],
      "execution_count": 0,
      "outputs": []
    },
    {
      "cell_type": "code",
      "metadata": {
        "id": "sAg_Qms-mOcV",
        "colab_type": "code",
        "colab": {}
      },
      "source": [
        "imputeseagate = pd.read_csv('/content/drive/My Drive/Colab Notebooks/Seagate/100seagatek9_unscaled.csv')\n",
        "imputeseagate.head()\n",
        "imputeseagate = imputeseagate!= imputeseagate['Unnamed: 0']\n"
      ],
      "execution_count": 0,
      "outputs": []
    },
    {
      "cell_type": "code",
      "metadata": {
        "id": "uO0EY9H3mPqG",
        "colab_type": "code",
        "colab": {}
      },
      "source": [
        "from sklearn import preprocessing\n",
        "seagatescaled = preprocessing.scale(imputeseagate != imputeseagate['target'])\n",
        "seagatescaled = pd.DataFrame(seagatescaled)\n",
        "seagatescaled.columns = seagate.columns"
      ],
      "execution_count": 0,
      "outputs": []
    },
    {
      "cell_type": "code",
      "metadata": {
        "id": "lUY8xP1AmV6S",
        "colab_type": "code",
        "colab": {}
      },
      "source": [
        "seagate[[\"mtrprm2_parameter1\",\"mtrprm2_parameter3\",\"mtrprm2_parameter4\",\"mtrprm3_parameter1\",\"mtrprm3_parameter4\",\n",
        "                        \"mtrprm3_parameter5\",\"mtrprm4_parameter1\",\"mtrprm6_parameter1\",\n",
        "                        \"mtrprm8_parameter1\",\"mtrprm8_parameter2\",\"mtrprm9_parameter1\",\"mtrprm9_parameter2\",\n",
        "                        \"mtrprm9_parameter3\", \"mtrprm11_parameter1\",\"mtrprm12_parameter1\",\"mtrprm15_parameter1\",\n",
        "                        \"mtrprm17_parameter1\",\"mtrprm_mfg_date_code\",\"mtrprm_motor_line_num\",\"mtrprm19_parameter1\",\n",
        "                        \"mtrprm20_parameter1\",\"mtrprm20_parameter2\",\"mtrprm21_parameter2\",\n",
        "                        \"mtrprm24_parameter2\",\"mtrprm24_parameter3\",\"mtrprm24_parameter4\", \"mtrprm_ship_date\" ,\n",
        "                        \"hkpinp2_parameter1\"  ,  \"hkpinp3_parameter1\"  ,  \"hkpinp4_parameter1\" ,   \"hkpinp4_parameter2\" ,\n",
        "                        \"hkpinp4_parameter3\"  ,  \"hkpinp4_parameter4\"  ,  \"hkpinp4_parameter5\" ,   \"hkpinp4_parameter6\"  ,\n",
        "                        \"hkpinp4_parameter7\"  ,  \"hkpinp4_parameter8\"  ,  \"hkpinp4_parameter9\"  ,  \"hkpinp4_parameter10\" ,\n",
        "                        \"hkpinp4_parameter11\" ,  \"hkpinp4_parameter12\" ,  \"hkpinp4_parameter13\"   ,\"hkpinp4_parameter14\" ,\n",
        "                        \"hkpinp4_parameter15\",   \"hkpinp4_parameter16\" ,  \"hkpinp4_parameter17\"  , \"hkpinp4_parameter18\"]] = seagatescaled\n",
        "\n",
        "seagatescaled.to_csv(r'/content/drive/My Drive/Colab Notebooks/Seagate/100seagatek9.csv', index = False, header =True)\n"
      ],
      "execution_count": 0,
      "outputs": []
    },
    {
      "cell_type": "markdown",
      "metadata": {
        "id": "YuTvIAp5kgyd",
        "colab_type": "text"
      },
      "source": [
        "# SMOTE v2"
      ]
    },
    {
      "cell_type": "code",
      "metadata": {
        "id": "ee9NesVPkiNq",
        "colab_type": "code",
        "colab": {}
      },
      "source": [
        "import pandas as pd\n",
        "\n",
        "data = pd.read_csv('/content/drive/My Drive/Seagate/imputed_final.csv') "
      ],
      "execution_count": 0,
      "outputs": []
    },
    {
      "cell_type": "code",
      "metadata": {
        "id": "6MT-mMwLkxMf",
        "colab_type": "code",
        "outputId": "67483f5a-e12b-49f1-86d9-ad760ef4e32f",
        "colab": {
          "base_uri": "https://localhost:8080/",
          "height": 51
        }
      },
      "source": [
        "import os\n",
        "import numpy as np\n",
        "import seaborn as sns\n",
        "from sklearn.decomposition import PCA\n",
        "from sklearn.experimental import enable_iterative_imputer\n",
        "from sklearn.impute import IterativeImputer, SimpleImputer\n",
        "from sklearn.preprocessing import StandardScaler\n",
        "from imblearn.over_sampling import RandomOverSampler\n",
        "from imblearn.under_sampling import RandomUnderSampler\n",
        "from collections import Counter\n",
        "import matplotlib.pyplot as plt\n"
      ],
      "execution_count": 0,
      "outputs": [
        {
          "output_type": "stream",
          "text": [
            "/usr/local/lib/python3.6/dist-packages/statsmodels/tools/_testing.py:19: FutureWarning: pandas.util.testing is deprecated. Use the functions in the public API at pandas.testing instead.\n",
            "  import pandas.util.testing as tm\n"
          ],
          "name": "stderr"
        }
      ]
    },
    {
      "cell_type": "code",
      "metadata": {
        "id": "xGGvwL1dlcZx",
        "colab_type": "code",
        "outputId": "3fa43310-e359-49a1-ee1d-0261e81c1def",
        "colab": {
          "base_uri": "https://localhost:8080/",
          "height": 153
        }
      },
      "source": [
        "print(data.head())\n",
        "data = data.drop('Unnamed: 0', axis=1)"
      ],
      "execution_count": 0,
      "outputs": [
        {
          "output_type": "stream",
          "text": [
            "   Unnamed: 0  target  ...  mtrprm_ramp_date_code_K  mtrprm_ramp_date_code_H\n",
            "0           1       0  ...                        0                        0\n",
            "1           2       0  ...                        0                        0\n",
            "2           3       0  ...                        1                        0\n",
            "3           4       0  ...                        0                        0\n",
            "4           5       0  ...                        0                        0\n",
            "\n",
            "[5 rows x 74 columns]\n"
          ],
          "name": "stdout"
        }
      ]
    },
    {
      "cell_type": "code",
      "metadata": {
        "id": "18nNeFzFlUwj",
        "colab_type": "code",
        "outputId": "66d61bd2-2ea9-41cf-ca7c-cd6ecf182d66",
        "colab": {
          "base_uri": "https://localhost:8080/",
          "height": 34
        }
      },
      "source": [
        "y = data['target']\n",
        "x = data.loc[:, data.columns != 'target']\n",
        "\n",
        "print(Counter(y))"
      ],
      "execution_count": 0,
      "outputs": [
        {
          "output_type": "stream",
          "text": [
            "Counter({0: 1121283, 1: 9750})\n"
          ],
          "name": "stdout"
        }
      ]
    },
    {
      "cell_type": "code",
      "metadata": {
        "id": "SsdJpUiynpAC",
        "colab_type": "code",
        "outputId": "15419a3c-8dcb-4b7a-9c1d-20a6cdd46e50",
        "colab": {
          "base_uri": "https://localhost:8080/",
          "height": 34
        }
      },
      "source": [
        "type(y)"
      ],
      "execution_count": 0,
      "outputs": [
        {
          "output_type": "execute_result",
          "data": {
            "text/plain": [
              "pandas.core.series.Series"
            ]
          },
          "metadata": {
            "tags": []
          },
          "execution_count": 27
        }
      ]
    },
    {
      "cell_type": "code",
      "metadata": {
        "id": "n7vtvRmflyPR",
        "colab_type": "code",
        "outputId": "20989de9-7de8-432e-f8ee-7acd30e2f80b",
        "colab": {
          "base_uri": "https://localhost:8080/",
          "height": 102
        }
      },
      "source": [
        "over = RandomOverSampler(sampling_strategy=0.15)\n",
        "X, y = over.fit_resample(x, y)\n",
        "\n",
        "under = RandomUnderSampler(sampling_strategy=0.35)\n",
        "X_resampled, y_resampled = under.fit_resample(X, y)\n",
        "print(Counter(y_resampled))"
      ],
      "execution_count": 0,
      "outputs": [
        {
          "output_type": "stream",
          "text": [
            "/usr/local/lib/python3.6/dist-packages/sklearn/utils/deprecation.py:87: FutureWarning: Function safe_indexing is deprecated; safe_indexing is deprecated in version 0.22 and will be removed in version 0.24.\n",
            "  warnings.warn(msg, category=FutureWarning)\n",
            "/usr/local/lib/python3.6/dist-packages/sklearn/utils/deprecation.py:87: FutureWarning: Function safe_indexing is deprecated; safe_indexing is deprecated in version 0.22 and will be removed in version 0.24.\n",
            "  warnings.warn(msg, category=FutureWarning)\n"
          ],
          "name": "stderr"
        },
        {
          "output_type": "stream",
          "text": [
            "Counter({0: 480548, 1: 168192})\n"
          ],
          "name": "stdout"
        }
      ]
    },
    {
      "cell_type": "code",
      "metadata": {
        "id": "GmZcHrvNmLJN",
        "colab_type": "code",
        "colab": {}
      },
      "source": [
        "X_data = pd.DataFrame(X_resampled, columns = x.columns)\n",
        "y_data = pd.DataFrame(y_resampled)\n",
        "smote_data = y_data.merge(X_data, left_index=True, right_index =True)"
      ],
      "execution_count": 0,
      "outputs": []
    },
    {
      "cell_type": "code",
      "metadata": {
        "id": "v8qsDzEkpMDZ",
        "colab_type": "code",
        "colab": {}
      },
      "source": [
        "smote_data = smote_data.rename(columns={0: 'target'})"
      ],
      "execution_count": 0,
      "outputs": []
    },
    {
      "cell_type": "code",
      "metadata": {
        "id": "RDMYZpg8o7qX",
        "colab_type": "code",
        "outputId": "29d55913-d970-4c18-cb15-03125ebef755",
        "colab": {
          "base_uri": "https://localhost:8080/",
          "height": 224
        }
      },
      "source": [
        "smote_data.head()"
      ],
      "execution_count": 0,
      "outputs": [
        {
          "output_type": "execute_result",
          "data": {
            "text/html": [
              "<div>\n",
              "<style scoped>\n",
              "    .dataframe tbody tr th:only-of-type {\n",
              "        vertical-align: middle;\n",
              "    }\n",
              "\n",
              "    .dataframe tbody tr th {\n",
              "        vertical-align: top;\n",
              "    }\n",
              "\n",
              "    .dataframe thead th {\n",
              "        text-align: right;\n",
              "    }\n",
              "</style>\n",
              "<table border=\"1\" class=\"dataframe\">\n",
              "  <thead>\n",
              "    <tr style=\"text-align: right;\">\n",
              "      <th></th>\n",
              "      <th>target</th>\n",
              "      <th>event_date</th>\n",
              "      <th>drive_interface</th>\n",
              "      <th>run_type</th>\n",
              "      <th>mtrprm2_parameter1</th>\n",
              "      <th>mtrprm2_parameter3</th>\n",
              "      <th>mtrprm2_parameter4</th>\n",
              "      <th>mtrprm3_parameter1</th>\n",
              "      <th>mtrprm4_parameter1</th>\n",
              "      <th>mtrprm6_parameter1</th>\n",
              "      <th>mtrprm8_parameter1</th>\n",
              "      <th>mtrprm8_parameter2</th>\n",
              "      <th>mtrprm9_parameter1</th>\n",
              "      <th>mtrprm9_parameter2</th>\n",
              "      <th>mtrprm9_parameter3</th>\n",
              "      <th>mtrprm11_parameter1</th>\n",
              "      <th>mtrprm12_parameter1</th>\n",
              "      <th>mtrprm15_parameter1</th>\n",
              "      <th>mtrprm_mfg_date_code</th>\n",
              "      <th>mtrprm_motor_line_num</th>\n",
              "      <th>mtrprm20_parameter1</th>\n",
              "      <th>mtrprm21_parameter2</th>\n",
              "      <th>mtrprm24_parameter3</th>\n",
              "      <th>mtrprm_ship_date</th>\n",
              "      <th>hkpinp2_parameter1</th>\n",
              "      <th>hkpinp3_parameter1</th>\n",
              "      <th>hkpinp4_parameter1</th>\n",
              "      <th>hkpinp4_parameter3</th>\n",
              "      <th>hkpinp4_parameter5</th>\n",
              "      <th>hkpinp4_parameter7</th>\n",
              "      <th>hkpinp4_parameter9</th>\n",
              "      <th>hkpinp4_parameter11</th>\n",
              "      <th>hkpinp4_parameter13</th>\n",
              "      <th>hkpinp4_parameter15</th>\n",
              "      <th>hkpinp4_parameter17</th>\n",
              "      <th>hkpinp4_parameter18</th>\n",
              "      <th>motor_vend_id_3</th>\n",
              "      <th>motor_vend_id_5</th>\n",
              "      <th>motor_vend_id_6</th>\n",
              "      <th>motor_vend_id_8</th>\n",
              "      <th>motor_vend_id_M</th>\n",
              "      <th>motor_vend_id_N</th>\n",
              "      <th>motor_vend_id_P</th>\n",
              "      <th>motor_vend_id_Z</th>\n",
              "      <th>drive_part_number_1</th>\n",
              "      <th>drive_part_number_2</th>\n",
              "      <th>drive_part_number_3</th>\n",
              "      <th>drive_part_number_4</th>\n",
              "      <th>drive_part_number_5</th>\n",
              "      <th>motor_lot_1</th>\n",
              "      <th>motor_lot_2</th>\n",
              "      <th>motor_lot_3</th>\n",
              "      <th>motor_lot_4</th>\n",
              "      <th>motor_lot_5</th>\n",
              "      <th>dpg_2KH103</th>\n",
              "      <th>dpg_2KH113</th>\n",
              "      <th>dpg_2KH133</th>\n",
              "      <th>dpg_2KH203</th>\n",
              "      <th>dpg_2KH213</th>\n",
              "      <th>dpg_2KH233</th>\n",
              "      <th>dpg_2KK103</th>\n",
              "      <th>dpg_2L2103</th>\n",
              "      <th>dpg_2P2113</th>\n",
              "      <th>dpg_2RK202</th>\n",
              "      <th>dpg_2RP102</th>\n",
              "      <th>dpg_2RV103</th>\n",
              "      <th>dpg_2RW103</th>\n",
              "      <th>dpg_2T7223</th>\n",
              "      <th>mtrprm_ship_day</th>\n",
              "      <th>mtrprm_ship_month</th>\n",
              "      <th>event_day</th>\n",
              "      <th>mtrprm_ramp_date_code_K</th>\n",
              "      <th>mtrprm_ramp_date_code_H</th>\n",
              "    </tr>\n",
              "  </thead>\n",
              "  <tbody>\n",
              "    <tr>\n",
              "      <th>0</th>\n",
              "      <td>0</td>\n",
              "      <td>10.0</td>\n",
              "      <td>0.0</td>\n",
              "      <td>0.0</td>\n",
              "      <td>16.0</td>\n",
              "      <td>345.0</td>\n",
              "      <td>712.0</td>\n",
              "      <td>0.000</td>\n",
              "      <td>626.0</td>\n",
              "      <td>10890.0</td>\n",
              "      <td>1094.0</td>\n",
              "      <td>160.000000</td>\n",
              "      <td>711.0</td>\n",
              "      <td>0.00600</td>\n",
              "      <td>1057.0</td>\n",
              "      <td>23096.0</td>\n",
              "      <td>54727.000000</td>\n",
              "      <td>33817.0</td>\n",
              "      <td>7300.0</td>\n",
              "      <td>2.0</td>\n",
              "      <td>6.3100</td>\n",
              "      <td>27178.0</td>\n",
              "      <td>123.000000</td>\n",
              "      <td>24.000000</td>\n",
              "      <td>168.0</td>\n",
              "      <td>381.0</td>\n",
              "      <td>1978.0</td>\n",
              "      <td>2444.0</td>\n",
              "      <td>1965.0</td>\n",
              "      <td>1920.0</td>\n",
              "      <td>2239.0</td>\n",
              "      <td>2260.0</td>\n",
              "      <td>2024.0</td>\n",
              "      <td>1915.0</td>\n",
              "      <td>1775.0</td>\n",
              "      <td>2844.0</td>\n",
              "      <td>0.0</td>\n",
              "      <td>0.0</td>\n",
              "      <td>0.0</td>\n",
              "      <td>0.0</td>\n",
              "      <td>0.0</td>\n",
              "      <td>0.0</td>\n",
              "      <td>0.0</td>\n",
              "      <td>1.0</td>\n",
              "      <td>1.0</td>\n",
              "      <td>0.0</td>\n",
              "      <td>0.0</td>\n",
              "      <td>0.0</td>\n",
              "      <td>0.0</td>\n",
              "      <td>1.0</td>\n",
              "      <td>0.0</td>\n",
              "      <td>0.0</td>\n",
              "      <td>0.0</td>\n",
              "      <td>0.0</td>\n",
              "      <td>0.0</td>\n",
              "      <td>1.0</td>\n",
              "      <td>0.0</td>\n",
              "      <td>0.0</td>\n",
              "      <td>0.0</td>\n",
              "      <td>0.0</td>\n",
              "      <td>0.0</td>\n",
              "      <td>0.0</td>\n",
              "      <td>0.0</td>\n",
              "      <td>0.0</td>\n",
              "      <td>0.0</td>\n",
              "      <td>0.0</td>\n",
              "      <td>0.0</td>\n",
              "      <td>0.0</td>\n",
              "      <td>24.000000</td>\n",
              "      <td>1.000000</td>\n",
              "      <td>10.0</td>\n",
              "      <td>0.0</td>\n",
              "      <td>1.0</td>\n",
              "    </tr>\n",
              "    <tr>\n",
              "      <th>1</th>\n",
              "      <td>0</td>\n",
              "      <td>6.0</td>\n",
              "      <td>0.0</td>\n",
              "      <td>1.0</td>\n",
              "      <td>68.0</td>\n",
              "      <td>191.0</td>\n",
              "      <td>419.0</td>\n",
              "      <td>0.000</td>\n",
              "      <td>597.0</td>\n",
              "      <td>17270.0</td>\n",
              "      <td>2271.0</td>\n",
              "      <td>240.000000</td>\n",
              "      <td>639.0</td>\n",
              "      <td>0.01220</td>\n",
              "      <td>990.0</td>\n",
              "      <td>14187.0</td>\n",
              "      <td>82353.000000</td>\n",
              "      <td>19213.0</td>\n",
              "      <td>7160.0</td>\n",
              "      <td>1.0</td>\n",
              "      <td>6.2656</td>\n",
              "      <td>41578.0</td>\n",
              "      <td>4999.555556</td>\n",
              "      <td>18.000000</td>\n",
              "      <td>148.0</td>\n",
              "      <td>198.0</td>\n",
              "      <td>2866.0</td>\n",
              "      <td>3319.0</td>\n",
              "      <td>2701.0</td>\n",
              "      <td>2576.0</td>\n",
              "      <td>2536.0</td>\n",
              "      <td>2969.0</td>\n",
              "      <td>2444.0</td>\n",
              "      <td>2597.0</td>\n",
              "      <td>2290.0</td>\n",
              "      <td>2850.0</td>\n",
              "      <td>0.0</td>\n",
              "      <td>0.0</td>\n",
              "      <td>0.0</td>\n",
              "      <td>0.0</td>\n",
              "      <td>0.0</td>\n",
              "      <td>0.0</td>\n",
              "      <td>0.0</td>\n",
              "      <td>1.0</td>\n",
              "      <td>1.0</td>\n",
              "      <td>0.0</td>\n",
              "      <td>0.0</td>\n",
              "      <td>0.0</td>\n",
              "      <td>0.0</td>\n",
              "      <td>0.0</td>\n",
              "      <td>1.0</td>\n",
              "      <td>0.0</td>\n",
              "      <td>0.0</td>\n",
              "      <td>0.0</td>\n",
              "      <td>0.0</td>\n",
              "      <td>1.0</td>\n",
              "      <td>0.0</td>\n",
              "      <td>0.0</td>\n",
              "      <td>0.0</td>\n",
              "      <td>0.0</td>\n",
              "      <td>0.0</td>\n",
              "      <td>0.0</td>\n",
              "      <td>0.0</td>\n",
              "      <td>0.0</td>\n",
              "      <td>0.0</td>\n",
              "      <td>0.0</td>\n",
              "      <td>0.0</td>\n",
              "      <td>0.0</td>\n",
              "      <td>18.000000</td>\n",
              "      <td>10.000000</td>\n",
              "      <td>6.0</td>\n",
              "      <td>1.0</td>\n",
              "      <td>0.0</td>\n",
              "    </tr>\n",
              "    <tr>\n",
              "      <th>2</th>\n",
              "      <td>0</td>\n",
              "      <td>12.0</td>\n",
              "      <td>0.0</td>\n",
              "      <td>0.0</td>\n",
              "      <td>1258.0</td>\n",
              "      <td>264.0</td>\n",
              "      <td>2217.0</td>\n",
              "      <td>-9.528</td>\n",
              "      <td>402.0</td>\n",
              "      <td>2915.0</td>\n",
              "      <td>1275.0</td>\n",
              "      <td>168.222222</td>\n",
              "      <td>582.0</td>\n",
              "      <td>0.00813</td>\n",
              "      <td>901.0</td>\n",
              "      <td>17989.0</td>\n",
              "      <td>53713.333333</td>\n",
              "      <td>213818.0</td>\n",
              "      <td>6140.0</td>\n",
              "      <td>1.0</td>\n",
              "      <td>8.4000</td>\n",
              "      <td>20377.0</td>\n",
              "      <td>5829.000000</td>\n",
              "      <td>16.000000</td>\n",
              "      <td>113.0</td>\n",
              "      <td>455.0</td>\n",
              "      <td>2246.0</td>\n",
              "      <td>2139.0</td>\n",
              "      <td>2131.0</td>\n",
              "      <td>2216.0</td>\n",
              "      <td>2356.0</td>\n",
              "      <td>2239.0</td>\n",
              "      <td>2024.0</td>\n",
              "      <td>2227.0</td>\n",
              "      <td>1620.0</td>\n",
              "      <td>2170.0</td>\n",
              "      <td>0.0</td>\n",
              "      <td>0.0</td>\n",
              "      <td>0.0</td>\n",
              "      <td>0.0</td>\n",
              "      <td>0.0</td>\n",
              "      <td>0.0</td>\n",
              "      <td>1.0</td>\n",
              "      <td>0.0</td>\n",
              "      <td>1.0</td>\n",
              "      <td>0.0</td>\n",
              "      <td>0.0</td>\n",
              "      <td>0.0</td>\n",
              "      <td>0.0</td>\n",
              "      <td>1.0</td>\n",
              "      <td>0.0</td>\n",
              "      <td>0.0</td>\n",
              "      <td>0.0</td>\n",
              "      <td>0.0</td>\n",
              "      <td>0.0</td>\n",
              "      <td>1.0</td>\n",
              "      <td>0.0</td>\n",
              "      <td>0.0</td>\n",
              "      <td>0.0</td>\n",
              "      <td>0.0</td>\n",
              "      <td>0.0</td>\n",
              "      <td>0.0</td>\n",
              "      <td>0.0</td>\n",
              "      <td>0.0</td>\n",
              "      <td>0.0</td>\n",
              "      <td>0.0</td>\n",
              "      <td>0.0</td>\n",
              "      <td>0.0</td>\n",
              "      <td>16.000000</td>\n",
              "      <td>8.333333</td>\n",
              "      <td>12.0</td>\n",
              "      <td>0.0</td>\n",
              "      <td>0.0</td>\n",
              "    </tr>\n",
              "    <tr>\n",
              "      <th>3</th>\n",
              "      <td>0</td>\n",
              "      <td>27.0</td>\n",
              "      <td>0.0</td>\n",
              "      <td>1.0</td>\n",
              "      <td>246.0</td>\n",
              "      <td>254.0</td>\n",
              "      <td>1087.0</td>\n",
              "      <td>0.000</td>\n",
              "      <td>424.0</td>\n",
              "      <td>8166.0</td>\n",
              "      <td>1165.0</td>\n",
              "      <td>173.000000</td>\n",
              "      <td>827.0</td>\n",
              "      <td>0.01360</td>\n",
              "      <td>853.0</td>\n",
              "      <td>12984.0</td>\n",
              "      <td>90958.000000</td>\n",
              "      <td>229890.0</td>\n",
              "      <td>7200.0</td>\n",
              "      <td>2.0</td>\n",
              "      <td>6.1119</td>\n",
              "      <td>33778.0</td>\n",
              "      <td>139.000000</td>\n",
              "      <td>15.000000</td>\n",
              "      <td>143.0</td>\n",
              "      <td>316.0</td>\n",
              "      <td>2610.0</td>\n",
              "      <td>3035.0</td>\n",
              "      <td>2612.0</td>\n",
              "      <td>2872.0</td>\n",
              "      <td>2874.0</td>\n",
              "      <td>3020.0</td>\n",
              "      <td>2922.0</td>\n",
              "      <td>2652.0</td>\n",
              "      <td>2742.0</td>\n",
              "      <td>3336.0</td>\n",
              "      <td>0.0</td>\n",
              "      <td>0.0</td>\n",
              "      <td>0.0</td>\n",
              "      <td>0.0</td>\n",
              "      <td>0.0</td>\n",
              "      <td>0.0</td>\n",
              "      <td>0.0</td>\n",
              "      <td>1.0</td>\n",
              "      <td>0.0</td>\n",
              "      <td>1.0</td>\n",
              "      <td>0.0</td>\n",
              "      <td>0.0</td>\n",
              "      <td>0.0</td>\n",
              "      <td>1.0</td>\n",
              "      <td>0.0</td>\n",
              "      <td>0.0</td>\n",
              "      <td>0.0</td>\n",
              "      <td>0.0</td>\n",
              "      <td>0.0</td>\n",
              "      <td>0.0</td>\n",
              "      <td>0.0</td>\n",
              "      <td>0.0</td>\n",
              "      <td>0.0</td>\n",
              "      <td>0.0</td>\n",
              "      <td>0.0</td>\n",
              "      <td>0.0</td>\n",
              "      <td>0.0</td>\n",
              "      <td>0.0</td>\n",
              "      <td>0.0</td>\n",
              "      <td>1.0</td>\n",
              "      <td>0.0</td>\n",
              "      <td>0.0</td>\n",
              "      <td>15.000000</td>\n",
              "      <td>11.000000</td>\n",
              "      <td>27.0</td>\n",
              "      <td>0.0</td>\n",
              "      <td>1.0</td>\n",
              "    </tr>\n",
              "    <tr>\n",
              "      <th>4</th>\n",
              "      <td>0</td>\n",
              "      <td>10.0</td>\n",
              "      <td>0.0</td>\n",
              "      <td>0.0</td>\n",
              "      <td>1277.0</td>\n",
              "      <td>140.0</td>\n",
              "      <td>814.0</td>\n",
              "      <td>-9.520</td>\n",
              "      <td>520.0</td>\n",
              "      <td>17477.0</td>\n",
              "      <td>1004.0</td>\n",
              "      <td>179.111111</td>\n",
              "      <td>529.0</td>\n",
              "      <td>0.00741</td>\n",
              "      <td>886.0</td>\n",
              "      <td>10089.0</td>\n",
              "      <td>55007.333333</td>\n",
              "      <td>227301.0</td>\n",
              "      <td>4240.0</td>\n",
              "      <td>3.0</td>\n",
              "      <td>8.3900</td>\n",
              "      <td>35184.0</td>\n",
              "      <td>4296.000000</td>\n",
              "      <td>15.111111</td>\n",
              "      <td>129.0</td>\n",
              "      <td>353.0</td>\n",
              "      <td>2116.0</td>\n",
              "      <td>2189.0</td>\n",
              "      <td>2341.0</td>\n",
              "      <td>1856.0</td>\n",
              "      <td>1966.0</td>\n",
              "      <td>1819.0</td>\n",
              "      <td>1664.0</td>\n",
              "      <td>2087.0</td>\n",
              "      <td>1520.0</td>\n",
              "      <td>2020.0</td>\n",
              "      <td>0.0</td>\n",
              "      <td>0.0</td>\n",
              "      <td>0.0</td>\n",
              "      <td>0.0</td>\n",
              "      <td>0.0</td>\n",
              "      <td>0.0</td>\n",
              "      <td>1.0</td>\n",
              "      <td>0.0</td>\n",
              "      <td>1.0</td>\n",
              "      <td>0.0</td>\n",
              "      <td>0.0</td>\n",
              "      <td>0.0</td>\n",
              "      <td>0.0</td>\n",
              "      <td>0.0</td>\n",
              "      <td>1.0</td>\n",
              "      <td>0.0</td>\n",
              "      <td>0.0</td>\n",
              "      <td>0.0</td>\n",
              "      <td>0.0</td>\n",
              "      <td>1.0</td>\n",
              "      <td>0.0</td>\n",
              "      <td>0.0</td>\n",
              "      <td>0.0</td>\n",
              "      <td>0.0</td>\n",
              "      <td>0.0</td>\n",
              "      <td>0.0</td>\n",
              "      <td>0.0</td>\n",
              "      <td>0.0</td>\n",
              "      <td>0.0</td>\n",
              "      <td>0.0</td>\n",
              "      <td>0.0</td>\n",
              "      <td>0.0</td>\n",
              "      <td>15.111111</td>\n",
              "      <td>9.222222</td>\n",
              "      <td>10.0</td>\n",
              "      <td>0.0</td>\n",
              "      <td>0.0</td>\n",
              "    </tr>\n",
              "  </tbody>\n",
              "</table>\n",
              "</div>"
            ],
            "text/plain": [
              "   target  event_date  ...  mtrprm_ramp_date_code_K  mtrprm_ramp_date_code_H\n",
              "0       0        10.0  ...                      0.0                      1.0\n",
              "1       0         6.0  ...                      1.0                      0.0\n",
              "2       0        12.0  ...                      0.0                      0.0\n",
              "3       0        27.0  ...                      0.0                      1.0\n",
              "4       0        10.0  ...                      0.0                      0.0\n",
              "\n",
              "[5 rows x 73 columns]"
            ]
          },
          "metadata": {
            "tags": []
          },
          "execution_count": 54
        }
      ]
    },
    {
      "cell_type": "code",
      "metadata": {
        "id": "vhshqmSnrTWa",
        "colab_type": "code",
        "outputId": "4a99ce0d-234b-40df-96bb-116e047ce152",
        "colab": {
          "base_uri": "https://localhost:8080/",
          "height": 34
        }
      },
      "source": [
        "smote_data.shape"
      ],
      "execution_count": 0,
      "outputs": [
        {
          "output_type": "execute_result",
          "data": {
            "text/plain": [
              "(648740, 73)"
            ]
          },
          "metadata": {
            "tags": []
          },
          "execution_count": 55
        }
      ]
    },
    {
      "cell_type": "code",
      "metadata": {
        "id": "F_rVq2lVr2Bl",
        "colab_type": "code",
        "colab": {}
      },
      "source": [
        "#smote_data.to_csv('/content/drive/My Drive/Seagate/smote_training_data.csv')"
      ],
      "execution_count": 0,
      "outputs": []
    },
    {
      "cell_type": "markdown",
      "metadata": {
        "id": "qkpvQ-iJth_q",
        "colab_type": "text"
      },
      "source": [
        "# PCA"
      ]
    },
    {
      "cell_type": "code",
      "metadata": {
        "id": "AK4WHd-itk3-",
        "colab_type": "code",
        "colab": {}
      },
      "source": [
        "import numpy as np\n",
        "import pandas as pd\n",
        "import matplotlib.pyplot as plt\n",
        "from mpl_toolkits.mplot3d import Axes3D\n",
        "\n",
        "\n",
        "from sklearn import decomposition\n",
        "from sklearn import datasets"
      ],
      "execution_count": 0,
      "outputs": []
    },
    {
      "cell_type": "code",
      "metadata": {
        "id": "FALu2clEykqD",
        "colab_type": "code",
        "colab": {}
      },
      "source": [
        "#balanced dataset\n",
        "df = pd.read_csv('/content/drive/My Drive/Colab Notebooks/Seagate/Copy of smote_training_data.csv')\n",
        "# Drop column in seagate dataframe\n",
        "df = df.drop(columns=['event_date', 'mtrprm_ship_date','Unnamed: 0','dpg_2T7223'])"
      ],
      "execution_count": 0,
      "outputs": []
    },
    {
      "cell_type": "code",
      "metadata": {
        "id": "vtrXlMigymjh",
        "colab_type": "code",
        "colab": {}
      },
      "source": [
        "x_train = df\n",
        "y_train = df.target\n",
        "del x_train['target']"
      ],
      "execution_count": 0,
      "outputs": []
    },
    {
      "cell_type": "code",
      "metadata": {
        "id": "8BqTzrjUyq36",
        "colab_type": "code",
        "colab": {}
      },
      "source": [
        "#unbalanced Data\n",
        "df2 = pd.read_csv('/content/drive/My Drive/Colab Notebooks/Seagate/test_imputed_unscaled.csv')\n",
        "# Drop column in seagate dataframe\n",
        "del df2['Unnamed: 0']\n",
        "df2 = df2.drop(columns = ['event_date', 'mtrprm_ship_date', 'dpg_2T7223'])"
      ],
      "execution_count": 0,
      "outputs": []
    },
    {
      "cell_type": "code",
      "metadata": {
        "id": "LkQWP5L9ywcr",
        "colab_type": "code",
        "colab": {}
      },
      "source": [
        "x2_test = df2\n",
        "y2_test = df2.target\n",
        "del x2_test['target']"
      ],
      "execution_count": 0,
      "outputs": []
    },
    {
      "cell_type": "code",
      "metadata": {
        "id": "fUk3dYigy0RC",
        "colab_type": "code",
        "colab": {}
      },
      "source": [
        "from sklearn.preprocessing import StandardScaler\n",
        "scaler = StandardScaler()\n",
        "# Fit on test set.\n",
        "scaler.fit(x2_test)\n",
        "# Apply transform to both the training set and the test set.\n",
        "#x2_train = scaler.transform(x2_train)\n",
        "x2_test = scaler.transform(x2_test)"
      ],
      "execution_count": 0,
      "outputs": []
    },
    {
      "cell_type": "code",
      "metadata": {
        "id": "dTin1InMy12b",
        "colab_type": "code",
        "colab": {}
      },
      "source": [
        "from sklearn.decomposition import PCA\n",
        "# Make an instance of the Model\n",
        "pca = PCA(.95, random_state= 100)\n",
        "#Fit x_train\n",
        "pca.fit(x2_test)"
      ],
      "execution_count": 0,
      "outputs": []
    },
    {
      "cell_type": "code",
      "metadata": {
        "id": "2C1u3oucy3MG",
        "colab_type": "code",
        "colab": {}
      },
      "source": [
        "pca.n_components_\n",
        "#48 components"
      ],
      "execution_count": 0,
      "outputs": []
    },
    {
      "cell_type": "code",
      "metadata": {
        "id": "IiA-OWrwy6wg",
        "colab_type": "code",
        "colab": {}
      },
      "source": [
        "#transform both training and test\n",
        "#x2_train= pca.transform(x2_train)\n",
        "x2_test = pca.transform(x2_test)"
      ],
      "execution_count": 0,
      "outputs": []
    },
    {
      "cell_type": "code",
      "metadata": {
        "id": "u4mTS0Pey9qQ",
        "colab_type": "code",
        "colab": {}
      },
      "source": [
        "#PCA on smote data\n",
        "from sklearn.preprocessing import StandardScaler\n",
        "scaler = StandardScaler()\n",
        "# Fit on training set only.\n",
        "scaler.fit(x_train)\n",
        "# Apply transform to both the training set and the test set.\n",
        "x_train = scaler.transform(x_train)\n",
        "#x_test = scaler.transform(x_test)\n",
        "\n",
        "from sklearn.decomposition import PCA\n",
        "# Make an instance of the Model\n",
        "pca = PCA(.95, random_state= 100)\n",
        "\n",
        "#Fit x_train\n",
        "pca.fit(x_train)\n",
        "\n",
        "pca.n_components_\n",
        "#48 components\n",
        "\n",
        "#transform both training and test\n",
        "x_train= pca.transform(x_train)\n",
        "#x_test = pca.transform(x_test)"
      ],
      "execution_count": 0,
      "outputs": []
    },
    {
      "cell_type": "markdown",
      "metadata": {
        "id": "Lxt02gdPpMrz",
        "colab_type": "text"
      },
      "source": [
        "# Logistic Regression"
      ]
    },
    {
      "cell_type": "code",
      "metadata": {
        "id": "PJbnUYfIpOaD",
        "colab_type": "code",
        "colab": {}
      },
      "source": [
        "import pandas as pd\n",
        "import numpy as np\n",
        "from sklearn import preprocessing\n",
        "import matplotlib.pyplot as plt \n",
        "plt.rc(\"font\", size=14)\n",
        "from sklearn.linear_model import LogisticRegression\n",
        "from sklearn.metrics import classification_report, confusion_matrix"
      ],
      "execution_count": 0,
      "outputs": []
    },
    {
      "cell_type": "code",
      "metadata": {
        "id": "UNTpBaGi9F0d",
        "colab_type": "code",
        "colab": {}
      },
      "source": [
        "seagate = pd.read_csv('/content/drive/My Drive/Seagate/smote_training_data.csv')\n",
        "test = pd.read_csv('/content/drive/My Drive/Seagate/test_imputed_unscaled.csv')\n",
        "validate = pd.read_csv('/content/drive/My Drive/Seagate/validate_imputed_unscaled.csv')"
      ],
      "execution_count": 0,
      "outputs": []
    },
    {
      "cell_type": "code",
      "metadata": {
        "id": "w67R8UgEukla",
        "colab_type": "code",
        "colab": {}
      },
      "source": [
        "seagate = seagate.drop('Unnamed: 0', axis=1)\n",
        "test = test.drop('Unnamed: 0', axis=1)\n",
        "validate = validate.drop('Unnamed: 0', axis=1)"
      ],
      "execution_count": 0,
      "outputs": []
    },
    {
      "cell_type": "code",
      "metadata": {
        "id": "QE8ByEmBux6g",
        "colab_type": "code",
        "outputId": "28ab5f73-f865-4476-e5ec-5d5438e9f11f",
        "colab": {
          "base_uri": "https://localhost:8080/",
          "height": 275
        }
      },
      "source": [
        "test.head\n"
      ],
      "execution_count": 0,
      "outputs": [
        {
          "output_type": "execute_result",
          "data": {
            "text/plain": [
              "<bound method NDFrame.head of         target  event_date  ...  mtrprm_ramp_date_code_K  mtrprm_ramp_date_code_H\n",
              "0            0           1  ...                        0                        1\n",
              "1            0           1  ...                        0                        1\n",
              "2            0           1  ...                        1                        0\n",
              "3            0           1  ...                        0                        1\n",
              "4            0           1  ...                        1                        0\n",
              "...        ...         ...  ...                      ...                      ...\n",
              "371647       1          31  ...                        1                        0\n",
              "371648       1          31  ...                        1                        0\n",
              "371649       1          31  ...                        1                        0\n",
              "371650       1          31  ...                        1                        0\n",
              "371651       1          31  ...                        1                        0\n",
              "\n",
              "[371652 rows x 73 columns]>"
            ]
          },
          "metadata": {
            "tags": []
          },
          "execution_count": 37
        }
      ]
    },
    {
      "cell_type": "code",
      "metadata": {
        "id": "RDZTZkKFwEv0",
        "colab_type": "code",
        "outputId": "dc6c9935-6bcc-4231-9435-e3cd21c05653",
        "colab": {
          "base_uri": "https://localhost:8080/",
          "height": 408
        }
      },
      "source": [
        "seagate.columns"
      ],
      "execution_count": 0,
      "outputs": [
        {
          "output_type": "execute_result",
          "data": {
            "text/plain": [
              "Index(['target', 'event_date', 'drive_interface', 'run_type',\n",
              "       'mtrprm2_parameter1', 'mtrprm2_parameter3', 'mtrprm2_parameter4',\n",
              "       'mtrprm3_parameter1', 'mtrprm4_parameter1', 'mtrprm6_parameter1',\n",
              "       'mtrprm8_parameter1', 'mtrprm8_parameter2', 'mtrprm9_parameter1',\n",
              "       'mtrprm9_parameter2', 'mtrprm9_parameter3', 'mtrprm11_parameter1',\n",
              "       'mtrprm12_parameter1', 'mtrprm15_parameter1', 'mtrprm_mfg_date_code',\n",
              "       'mtrprm_motor_line_num', 'mtrprm20_parameter1', 'mtrprm21_parameter2',\n",
              "       'mtrprm24_parameter3', 'mtrprm_ship_date', 'hkpinp2_parameter1',\n",
              "       'hkpinp3_parameter1', 'hkpinp4_parameter1', 'hkpinp4_parameter3',\n",
              "       'hkpinp4_parameter5', 'hkpinp4_parameter7', 'hkpinp4_parameter9',\n",
              "       'hkpinp4_parameter11', 'hkpinp4_parameter13', 'hkpinp4_parameter15',\n",
              "       'hkpinp4_parameter17', 'hkpinp4_parameter18', 'motor_vend_id_3',\n",
              "       'motor_vend_id_5', 'motor_vend_id_6', 'motor_vend_id_8',\n",
              "       'motor_vend_id_M', 'motor_vend_id_N', 'motor_vend_id_P',\n",
              "       'motor_vend_id_Z', 'drive_part_number_1', 'drive_part_number_2',\n",
              "       'drive_part_number_3', 'drive_part_number_4', 'drive_part_number_5',\n",
              "       'motor_lot_1', 'motor_lot_2', 'motor_lot_3', 'motor_lot_4',\n",
              "       'motor_lot_5', 'dpg_2KH103', 'dpg_2KH113', 'dpg_2KH133', 'dpg_2KH203',\n",
              "       'dpg_2KH213', 'dpg_2KH233', 'dpg_2KK103', 'dpg_2L2103', 'dpg_2P2113',\n",
              "       'dpg_2RK202', 'dpg_2RP102', 'dpg_2RV103', 'dpg_2RW103', 'dpg_2T7223',\n",
              "       'mtrprm_ship_day', 'mtrprm_ship_month', 'event_day',\n",
              "       'mtrprm_ramp_date_code_K', 'mtrprm_ramp_date_code_H'],\n",
              "      dtype='object')"
            ]
          },
          "metadata": {
            "tags": []
          },
          "execution_count": 39
        }
      ]
    },
    {
      "cell_type": "code",
      "metadata": {
        "id": "h0bAcoB18bAx",
        "colab_type": "code",
        "colab": {}
      },
      "source": [
        "#statistically significant variables from R regressions\n",
        "'event_date', 'drive_interface', 'run_type', 'mtrprm2_parameter3', 'mtrprm3_parameter1',\n",
        "                      'mtrprm4_parameter1', 'mtrprm6_parameter1', 'mtrprm8_parameter1', 'mtrprm8_parameter2','mtrprm9_parameter1',\n",
        "                      'mtrprm9_parameter2', 'mtrprm9_parameter3','mtrprm11_parameter1','mtrprm12_parameter1','mtrprm_motor_line_num',\n",
        "                      'mtrprm20_parameter1','mtrprm21_parameter2','mtrprm_ship_date','hkpinp2_parameter1', 'hkpinp3_parameter1',\n",
        "                      'hkpinp4_parameter1','hkpinp4_parameter3','hkpinp4_parameter5','hkpinp4_parameter7','hkpinp4_parameter11',\n",
        "                      'hkpinp4_parameter13','hkpinp4_parameter15','hkpinp4_parameter18','drive_part_number_1','drive_part_number_2','drive_part_number_3',\n",
        "                      'drive_part_number_4','motor_lot_1','motor_lot_3','motor_lot_4','motor_lot_5','dpg_2KH113','dpg_2KH133','dpg_2KH203',\n",
        "                      'dpg_2KH213','dpg_2KH233','dpg_2KK103','dpg_2L2103','dpg_2P2113','dpg_2RP102','dpg_2RV103','dpg_2RW103',\n",
        "                      'mtrprm_ship_month','mtrprm_ramp_date_code_K'"
      ],
      "execution_count": 0,
      "outputs": []
    },
    {
      "cell_type": "code",
      "metadata": {
        "id": "zNv3W2Nywda6",
        "colab_type": "code",
        "colab": {}
      },
      "source": [
        "ytrain = seagate['target']\n",
        "xtrain = seagate.loc[:, seagate.columns != 'target']\n",
        "\n",
        "ytest = test['target']\n",
        "xtest = test.loc[:, test.columns != 'target']\n",
        "\n",
        "yval = validate['target']\n",
        "xval = validate.loc[:, validate.columns != 'target']"
      ],
      "execution_count": 0,
      "outputs": []
    },
    {
      "cell_type": "markdown",
      "metadata": {
        "id": "ddu1MATomq-Z",
        "colab_type": "text"
      },
      "source": [
        "### Model on validation set\n"
      ]
    },
    {
      "cell_type": "code",
      "metadata": {
        "id": "JNZn6SL-igdF",
        "colab_type": "code",
        "colab": {}
      },
      "source": [
        "from sklearn.preprocessing import StandardScaler\n",
        "sc_x = StandardScaler()\n",
        "xtrain = sc_x.fit_transform(xtrain)\n",
        "xval = sc_x.transform(xval)"
      ],
      "execution_count": 0,
      "outputs": []
    },
    {
      "cell_type": "code",
      "metadata": {
        "id": "6mWt8IzDjCBV",
        "colab_type": "code",
        "outputId": "2807b74d-e648-4f0a-a726-0012bfe6cdcf",
        "colab": {
          "base_uri": "https://localhost:8080/",
          "height": 102
        }
      },
      "source": [
        "from sklearn.linear_model import LogisticRegression\n",
        "classifier = LogisticRegression(random_state=0)\n",
        "classifier.fit(xtrain, ytrain)"
      ],
      "execution_count": 0,
      "outputs": [
        {
          "output_type": "execute_result",
          "data": {
            "text/plain": [
              "LogisticRegression(C=1.0, class_weight=None, dual=False, fit_intercept=True,\n",
              "                   intercept_scaling=1, l1_ratio=None, max_iter=100,\n",
              "                   multi_class='auto', n_jobs=None, penalty='l2',\n",
              "                   random_state=0, solver='lbfgs', tol=0.0001, verbose=0,\n",
              "                   warm_start=False)"
            ]
          },
          "metadata": {
            "tags": []
          },
          "execution_count": 39
        }
      ]
    },
    {
      "cell_type": "code",
      "metadata": {
        "id": "zu4_Y4GXjPKQ",
        "colab_type": "code",
        "colab": {}
      },
      "source": [
        "yval_pred = classifier.predict(xval)"
      ],
      "execution_count": 0,
      "outputs": []
    },
    {
      "cell_type": "code",
      "metadata": {
        "id": "WAClG8hAjTEI",
        "colab_type": "code",
        "outputId": "15d3ea53-ee56-4ba5-e3cb-cd24e4b366a9",
        "colab": {
          "base_uri": "https://localhost:8080/",
          "height": 68
        }
      },
      "source": [
        "from sklearn.metrics import confusion_matrix\n",
        "cm = confusion_matrix(yval, yval_pred)\n",
        "print(\"Confusion Matrix: \\n\", cm)"
      ],
      "execution_count": 0,
      "outputs": [
        {
          "output_type": "stream",
          "text": [
            "Confusion Matrix: \n",
            " [[368234   5450]\n",
            " [  3184    143]]\n"
          ],
          "name": "stdout"
        }
      ]
    },
    {
      "cell_type": "code",
      "metadata": {
        "id": "pkc3GwWvwc-A",
        "colab_type": "code",
        "outputId": "abfaf17c-d480-4269-f324-b7e6d827accf",
        "colab": {
          "base_uri": "https://localhost:8080/",
          "height": 170
        }
      },
      "source": [
        "from sklearn.metrics import classification_report\n",
        "print(classification_report(yval, y_val))"
      ],
      "execution_count": 0,
      "outputs": [
        {
          "output_type": "stream",
          "text": [
            "              precision    recall  f1-score   support\n",
            "\n",
            "           0       0.99      0.99      0.99    373684\n",
            "           1       0.03      0.04      0.03      3327\n",
            "\n",
            "    accuracy                           0.98    377011\n",
            "   macro avg       0.51      0.51      0.51    377011\n",
            "weighted avg       0.98      0.98      0.98    377011\n",
            "\n"
          ],
          "name": "stdout"
        }
      ]
    },
    {
      "cell_type": "markdown",
      "metadata": {
        "id": "PV2rKTEJS4oI",
        "colab_type": "text"
      },
      "source": [
        "According to the economic impact model, this model costs Seagate 233,205."
      ]
    },
    {
      "cell_type": "markdown",
      "metadata": {
        "id": "x_YjWKoHSi-J",
        "colab_type": "text"
      },
      "source": [
        "### Variable Selection with validation set\n"
      ]
    },
    {
      "cell_type": "code",
      "metadata": {
        "id": "OkabZ_eZSqjB",
        "colab_type": "code",
        "colab": {}
      },
      "source": [
        "ytrain_variable_select = seagate['target']\n",
        "xtrain_variable_select = seagate[['drive_interface', 'run_type', 'mtrprm2_parameter3', 'mtrprm3_parameter1',\n",
        "                      'mtrprm4_parameter1', 'mtrprm6_parameter1', 'mtrprm8_parameter1', 'mtrprm8_parameter2','mtrprm9_parameter1',\n",
        "                      'mtrprm9_parameter2', 'mtrprm9_parameter3','mtrprm11_parameter1','mtrprm12_parameter1','mtrprm_motor_line_num',\n",
        "                      'mtrprm20_parameter1','mtrprm21_parameter2','hkpinp2_parameter1', 'hkpinp3_parameter1',\n",
        "                      'hkpinp4_parameter1','hkpinp4_parameter3','hkpinp4_parameter5','hkpinp4_parameter7','hkpinp4_parameter11',\n",
        "                      'hkpinp4_parameter13','hkpinp4_parameter15','hkpinp4_parameter18','drive_part_number_1','drive_part_number_2','drive_part_number_3',\n",
        "                      'drive_part_number_4','motor_lot_1','motor_lot_3','motor_lot_4','motor_lot_5','dpg_2KH113','dpg_2KH133','dpg_2KH203',\n",
        "                      'dpg_2KH213','dpg_2KH233','dpg_2KK103','dpg_2L2103','dpg_2P2113','dpg_2RP102','dpg_2RV103','dpg_2RW103',\n",
        "                      'mtrprm_ship_month','mtrprm_ramp_date_code_K']]\n",
        "\n",
        "yval_variable_select = validate['target']\n",
        "xval_variable_select = validate[['drive_interface', 'run_type', 'mtrprm2_parameter3', 'mtrprm3_parameter1',\n",
        "                      'mtrprm4_parameter1', 'mtrprm6_parameter1', 'mtrprm8_parameter1', 'mtrprm8_parameter2','mtrprm9_parameter1',\n",
        "                      'mtrprm9_parameter2', 'mtrprm9_parameter3','mtrprm11_parameter1','mtrprm12_parameter1','mtrprm_motor_line_num',\n",
        "                      'mtrprm20_parameter1','mtrprm21_parameter2','hkpinp2_parameter1', 'hkpinp3_parameter1',\n",
        "                      'hkpinp4_parameter1','hkpinp4_parameter3','hkpinp4_parameter5','hkpinp4_parameter7','hkpinp4_parameter11',\n",
        "                      'hkpinp4_parameter13','hkpinp4_parameter15','hkpinp4_parameter18','drive_part_number_1','drive_part_number_2','drive_part_number_3',\n",
        "                      'drive_part_number_4','motor_lot_1','motor_lot_3','motor_lot_4','motor_lot_5','dpg_2KH113','dpg_2KH133','dpg_2KH203',\n",
        "                      'dpg_2KH213','dpg_2KH233','dpg_2KK103','dpg_2L2103','dpg_2P2113','dpg_2RP102','dpg_2RV103','dpg_2RW103',\n",
        "                      'mtrprm_ship_month','mtrprm_ramp_date_code_K']]"
      ],
      "execution_count": 0,
      "outputs": []
    },
    {
      "cell_type": "code",
      "metadata": {
        "id": "inpCJpr4TStR",
        "colab_type": "code",
        "colab": {}
      },
      "source": [
        "sc_x = StandardScaler()\n",
        "xtrain_variable_select = sc_x.fit_transform(xtrain_variable_select)\n",
        "xval_variable_select = sc_x.transform(xval_variable_select)"
      ],
      "execution_count": 0,
      "outputs": []
    },
    {
      "cell_type": "code",
      "metadata": {
        "id": "0lPteuuFTuiI",
        "colab_type": "code",
        "outputId": "37a431fd-c2a1-4c07-ea15-7355b56e280d",
        "colab": {
          "base_uri": "https://localhost:8080/",
          "height": 102
        }
      },
      "source": [
        "classifier_vs = LogisticRegression(random_state=0)\n",
        "classifier_vs.fit(xtrain_variable_select, ytrain_variable_select)"
      ],
      "execution_count": 0,
      "outputs": [
        {
          "output_type": "execute_result",
          "data": {
            "text/plain": [
              "LogisticRegression(C=1.0, class_weight=None, dual=False, fit_intercept=True,\n",
              "                   intercept_scaling=1, l1_ratio=None, max_iter=100,\n",
              "                   multi_class='auto', n_jobs=None, penalty='l2',\n",
              "                   random_state=0, solver='lbfgs', tol=0.0001, verbose=0,\n",
              "                   warm_start=False)"
            ]
          },
          "metadata": {
            "tags": []
          },
          "execution_count": 45
        }
      ]
    },
    {
      "cell_type": "code",
      "metadata": {
        "id": "AGXyXWB3TbZD",
        "colab_type": "code",
        "colab": {}
      },
      "source": [
        "yval_variable_select_pred = classifier_vs.predict(xval_variable_select)"
      ],
      "execution_count": 0,
      "outputs": []
    },
    {
      "cell_type": "code",
      "metadata": {
        "id": "eo2bRt95T00d",
        "colab_type": "code",
        "outputId": "a6d15c0c-be94-42ef-dbcd-e6f2137d9cce",
        "colab": {
          "base_uri": "https://localhost:8080/",
          "height": 68
        }
      },
      "source": [
        "cm = confusion_matrix(yval_variable_select, yval_variable_select_pred)\n",
        "print(\"Confusion Matrix: \\n\", cm)"
      ],
      "execution_count": 0,
      "outputs": [
        {
          "output_type": "stream",
          "text": [
            "Confusion Matrix: \n",
            " [[370546   3138]\n",
            " [  3277     50]]\n"
          ],
          "name": "stdout"
        }
      ]
    },
    {
      "cell_type": "markdown",
      "metadata": {
        "id": "9UH2pEVDUz5s",
        "colab_type": "text"
      },
      "source": [
        "This model is only going to cost 141,655. So we move on with this model to test."
      ]
    },
    {
      "cell_type": "markdown",
      "metadata": {
        "id": "ZiYXOzOiU3To",
        "colab_type": "text"
      },
      "source": [
        "### Logistic Regression Test Set (with variable selection)"
      ]
    },
    {
      "cell_type": "code",
      "metadata": {
        "id": "N8oggmk-U4_n",
        "colab_type": "code",
        "colab": {}
      },
      "source": [
        "ytrain_variable_select = seagate['target']\n",
        "xtrain_variable_select = seagate[['drive_interface', 'run_type', 'mtrprm2_parameter3', 'mtrprm3_parameter1',\n",
        "                      'mtrprm4_parameter1', 'mtrprm6_parameter1', 'mtrprm8_parameter1', 'mtrprm8_parameter2','mtrprm9_parameter1',\n",
        "                      'mtrprm9_parameter2', 'mtrprm9_parameter3','mtrprm11_parameter1','mtrprm12_parameter1','mtrprm_motor_line_num',\n",
        "                      'mtrprm20_parameter1','mtrprm21_parameter2','hkpinp2_parameter1', 'hkpinp3_parameter1',\n",
        "                      'hkpinp4_parameter1','hkpinp4_parameter3','hkpinp4_parameter5','hkpinp4_parameter7','hkpinp4_parameter11',\n",
        "                      'hkpinp4_parameter13','hkpinp4_parameter15','hkpinp4_parameter18','drive_part_number_1','drive_part_number_2','drive_part_number_3',\n",
        "                      'drive_part_number_4','motor_lot_1','motor_lot_3','motor_lot_4','motor_lot_5','dpg_2KH113','dpg_2KH133','dpg_2KH203',\n",
        "                      'dpg_2KH213','dpg_2KH233','dpg_2KK103','dpg_2L2103','dpg_2P2113','dpg_2RP102','dpg_2RV103','dpg_2RW103',\n",
        "                      'mtrprm_ship_month','mtrprm_ramp_date_code_K']]\n",
        "\n",
        "ytest = test['target']\n",
        "xtest = test[['drive_interface', 'run_type', 'mtrprm2_parameter3', 'mtrprm3_parameter1',\n",
        "                      'mtrprm4_parameter1', 'mtrprm6_parameter1', 'mtrprm8_parameter1', 'mtrprm8_parameter2','mtrprm9_parameter1',\n",
        "                      'mtrprm9_parameter2', 'mtrprm9_parameter3','mtrprm11_parameter1','mtrprm12_parameter1','mtrprm_motor_line_num',\n",
        "                      'mtrprm20_parameter1','mtrprm21_parameter2','hkpinp2_parameter1', 'hkpinp3_parameter1',\n",
        "                      'hkpinp4_parameter1','hkpinp4_parameter3','hkpinp4_parameter5','hkpinp4_parameter7','hkpinp4_parameter11',\n",
        "                      'hkpinp4_parameter13','hkpinp4_parameter15','hkpinp4_parameter18','drive_part_number_1','drive_part_number_2','drive_part_number_3',\n",
        "                      'drive_part_number_4','motor_lot_1','motor_lot_3','motor_lot_4','motor_lot_5','dpg_2KH113','dpg_2KH133','dpg_2KH203',\n",
        "                      'dpg_2KH213','dpg_2KH233','dpg_2KK103','dpg_2L2103','dpg_2P2113','dpg_2RP102','dpg_2RV103','dpg_2RW103',\n",
        "                      'mtrprm_ship_month','mtrprm_ramp_date_code_K']]"
      ],
      "execution_count": 0,
      "outputs": []
    },
    {
      "cell_type": "code",
      "metadata": {
        "id": "zWjH0P4dYTJd",
        "colab_type": "code",
        "colab": {}
      },
      "source": [
        "from sklearn.preprocessing import StandardScaler\n",
        "\n",
        "sc_x = StandardScaler()\n",
        "xtrain_variable_select = sc_x.fit_transform(xtrain_variable_select)\n",
        "xtest = sc_x.transform(xtest)"
      ],
      "execution_count": 0,
      "outputs": []
    },
    {
      "cell_type": "code",
      "metadata": {
        "id": "rvjUEC-vYesB",
        "colab_type": "code",
        "outputId": "9485bec5-f4b3-4229-87c0-46ff40d87e5a",
        "colab": {
          "base_uri": "https://localhost:8080/",
          "height": 102
        }
      },
      "source": [
        "classifier_vs = LogisticRegression(random_state=0)\n",
        "classifier_vs.fit(xtrain_variable_select, ytrain_variable_select)"
      ],
      "execution_count": 0,
      "outputs": [
        {
          "output_type": "execute_result",
          "data": {
            "text/plain": [
              "LogisticRegression(C=1.0, class_weight=None, dual=False, fit_intercept=True,\n",
              "                   intercept_scaling=1, l1_ratio=None, max_iter=100,\n",
              "                   multi_class='auto', n_jobs=None, penalty='l2',\n",
              "                   random_state=0, solver='lbfgs', tol=0.0001, verbose=0,\n",
              "                   warm_start=False)"
            ]
          },
          "metadata": {
            "tags": []
          },
          "execution_count": 9
        }
      ]
    },
    {
      "cell_type": "code",
      "metadata": {
        "id": "ofQywF3qYDfn",
        "colab_type": "code",
        "colab": {}
      },
      "source": [
        "ytest_pred  = classifier_vs.predict(xtest)"
      ],
      "execution_count": 0,
      "outputs": []
    },
    {
      "cell_type": "code",
      "metadata": {
        "id": "CQFVrzU5Ymse",
        "colab_type": "code",
        "outputId": "163ec8ea-10a5-436b-c0d7-edaa974ab65c",
        "colab": {
          "base_uri": "https://localhost:8080/",
          "height": 68
        }
      },
      "source": [
        "cm = confusion_matrix(ytest, ytest_pred)\n",
        "print(\"Confusion Matrix: \\n\", cm)"
      ],
      "execution_count": 0,
      "outputs": [
        {
          "output_type": "stream",
          "text": [
            "Confusion Matrix: \n",
            " [[365305   3134]\n",
            " [  3143     70]]\n"
          ],
          "name": "stdout"
        }
      ]
    },
    {
      "cell_type": "markdown",
      "metadata": {
        "id": "ICzxA4H7Yy4J",
        "colab_type": "text"
      },
      "source": [
        "## On the test set, it'll cost Seagate 144,305. "
      ]
    },
    {
      "cell_type": "markdown",
      "metadata": {
        "id": "7GweFCrXzS7B",
        "colab_type": "text"
      },
      "source": [
        "# Logistic Regression with PCA"
      ]
    },
    {
      "cell_type": "code",
      "metadata": {
        "id": "bjLbFLO3zVU_",
        "colab_type": "code",
        "colab": {}
      },
      "source": [
        "from sklearn.linear_model import LogisticRegression\n",
        "logisticRegr = LogisticRegression(solver = 'lbfgs')\n",
        "\n",
        "logisticRegr.fit(x_train, y_train)\n",
        "\n",
        "#make 10 predictions on the test data\n",
        "logisticRegr.predict(x2_test[0:10])\n",
        "\n",
        "from sklearn import metrics\n",
        "# Predictions/probs on the test dataset\n",
        "predicted = pd.DataFrame(logisticRegr.predict(x2_test))\n",
        "probs = pd.DataFrame(logisticRegr.predict_proba(x2_test))\n",
        "\n",
        "# Store metrics\n",
        "logreg_accuracy = metrics.accuracy_score(y2_test, predicted)     \n",
        "logreg_roc_auc = metrics.roc_auc_score(y2_test, probs[1])       \n",
        "logreg_confus_matrix = metrics.confusion_matrix(y2_test, predicted) \n",
        "logreg_classification_report = metrics.classification_report(y2_test, predicted)\n",
        "logreg_precision = metrics.precision_score(y2_test, predicted, pos_label=1)\n",
        "logreg_recall = metrics.recall_score(y2_test, predicted, pos_label=1)\n",
        "logreg_f1 = metrics.f1_score(y2_test, predicted, pos_label=1)\n",
        "\n",
        "logreg_accuracy\n",
        "logreg_confus_matrix\n",
        "logreg_roc_auc\n",
        "logreg_recall\n",
        "logreg_precision\n",
        "logreg_f1"
      ],
      "execution_count": 0,
      "outputs": []
    },
    {
      "cell_type": "markdown",
      "metadata": {
        "id": "plpimhM80Njx",
        "colab_type": "text"
      },
      "source": [
        "# Random Forest"
      ]
    },
    {
      "cell_type": "code",
      "metadata": {
        "id": "QADa2Yfk0PHE",
        "colab_type": "code",
        "colab": {}
      },
      "source": [
        "import pandas as pd\n",
        "import numpy as np\n",
        "from sklearn.model_selection import train_test_split\n",
        "from sklearn.ensemble import RandomForestClassifier"
      ],
      "execution_count": 0,
      "outputs": []
    },
    {
      "cell_type": "code",
      "metadata": {
        "id": "ccs34CiI1c8Y",
        "colab_type": "code",
        "colab": {}
      },
      "source": [
        "seagate = pd.read_csv(\"smote_training_data.csv\")\n",
        "\n",
        "# Drop column in seagate dataframe\n",
        "seagate = seagate.drop(columns=['event_date', 'mtrprm_ship_date','Unnamed: 0','dpg_2T7223'])\n",
        "\n",
        "x_train = seagate\n",
        "# NOTICE THAT THE X IS x LOWERCASE\n",
        "y_train = seagate.target\n",
        "del x_train['target']\n",
        "\n",
        "seagate_test= pd.read_csv(\"test_imputed_unscaled.csv\")\n",
        "x_test = seagate_test\n",
        "# NOTICE THAT THE X IS x LOWERCASE\n",
        "y_test = seatate_test.target\n",
        "del x_test['target']\n"
      ],
      "execution_count": 0,
      "outputs": []
    },
    {
      "cell_type": "code",
      "metadata": {
        "id": "76T6r3IC1tZ1",
        "colab_type": "code",
        "colab": {}
      },
      "source": [
        "# create the random forest model\n",
        "from sklearn import model_selection\n",
        "# random forest model creation\n",
        "rfc = RandomForestClassifier()\n",
        "rfc.fit(x_train,y_train)\n",
        "# predictions\n",
        "rfc_predict = rfc.predict(x_test)"
      ],
      "execution_count": 0,
      "outputs": []
    },
    {
      "cell_type": "code",
      "metadata": {
        "id": "ME5tUiyd1wjw",
        "colab_type": "code",
        "colab": {}
      },
      "source": [
        "# Evaluating Performance\n",
        "\n",
        "from sklearn.model_selection import cross_val_score\n",
        "from sklearn.metrics import classification_report, confusion_matrix\n",
        "\n",
        "#run cross-validation to get a better overview of the results\n",
        "rfc_cv_score = cross_val_score(rfc, x_test, y_test, cv=5, scoring='roc_auc')\n",
        "\n",
        "print(\"=== Confusion Matrix ===\")\n",
        "print(confusion_matrix(y_test, rfc_predict))\n",
        "print('\\n')\n",
        "print(\"=== Classification Report ===\")\n",
        "print(classification_report(y_test, rfc_predict))\n",
        "print('\\n')\n",
        "print(\"=== All AUC Scores ===\")\n",
        "print(rfc_cv_score)\n",
        "print('\\n')\n",
        "print(\"=== Mean AUC Score ===\")\n",
        "print(\"Mean AUC Score - Random Forest: \", rfc_cv_score.mean())"
      ],
      "execution_count": 0,
      "outputs": []
    },
    {
      "cell_type": "code",
      "metadata": {
        "id": "aadojE1A12wM",
        "colab_type": "code",
        "colab": {}
      },
      "source": [
        "# tuning hyperparameters\n",
        "\n",
        "from sklearn.model_selection import RandomizedSearchCV\n",
        "\n",
        "random_grid = {'bootstrap':[True,False],\n",
        "               'max_depth':[10,20,30,40,50,60,70,80,90,100,None],\n",
        "               'max_features': ['auto','sqrt'],\n",
        "               'min_samples_leaf':[1,2,4],\n",
        "               'min_samples_split': [2,5,10],\n",
        "               'n_estimators':[200,400,600,800,1000,1200,1400,1600,1800,2000]}\n",
        "\n",
        "# Random search of paramet\n",
        "rfc_random = RandomizedSearchCV(estimator = rfc, param_distributions = random_grid, n_iter = 10, cv = 5, verbose=2, random_state=42, n_jobs = -1)\n",
        "\n",
        "# Fit the model\n",
        "rfc_random.fit(x_train, y_train)\n",
        "\n",
        "# print results\n",
        "print(rfc_random.best_params_)\n",
        "\n",
        "rfc = RandomForestClassifier(n_estimators=600, max_depth=70, max_features='auto')\n",
        "rfc.fit(x_train,y_train)\n",
        "rfc_predict = rfc.predict(x_test)\n",
        "rfc_cv_score = cross_val_score(rfc, x_test, y_test, cv=10, scoring='roc_auc')\n",
        "print(\"=== Confusion Matrix ===\")\n",
        "print(confusion_matrix(y_test, rfc_predict))\n",
        "print('\\n')\n",
        "print(\"=== Classification Report ===\")\n",
        "print(classification_report(y_test, rfc_predict))\n",
        "print('\\n')\n",
        "print(\"=== All AUC Scores ===\")\n",
        "print(rfc_cv_score)\n",
        "print('\\n')\n",
        "print(\"=== Mean AUC Score ===\")\n",
        "print(\"Mean AUC Score - Random Forest: \", rfc_cv_score.mean())"
      ],
      "execution_count": 0,
      "outputs": []
    },
    {
      "cell_type": "code",
      "metadata": {
        "id": "3s1uDLzq2Is8",
        "colab_type": "code",
        "colab": {}
      },
      "source": [
        "# Feature Importance\n",
        "\n",
        "import matplotlib.pyplot as pyplot\n",
        "\n",
        "importance = rfc.feature_importances_\n",
        "# summarize feature importance\n",
        "for i,v in enumerate(importance):\n",
        "\tprint('Feature: %0d, Score: %.5f' % (i,v))\n",
        "# plot feature importance\n",
        "pyplot.bar([x for x in range(len(importance))], importance)\n",
        "pyplot.show()\n",
        "\n",
        "feat_importances = pd.Series(rfc.feature_importances_, index=seagate_random.columns[1:])\n",
        "feat_importances.nlargest(20).plot(kind='barh')\n",
        "\n"
      ],
      "execution_count": 0,
      "outputs": []
    },
    {
      "cell_type": "markdown",
      "metadata": {
        "id": "LyrQbU1F0QPw",
        "colab_type": "text"
      },
      "source": [
        "# Random Forest with PCA"
      ]
    },
    {
      "cell_type": "code",
      "metadata": {
        "id": "6eWb4wI00TMr",
        "colab_type": "code",
        "colab": {}
      },
      "source": [
        "import numpy as np\n",
        "import pandas as pd\n",
        "import matplotlib.pyplot as plt\n",
        "from mpl_toolkits.mplot3d import Axes3D\n",
        "\n",
        "\n",
        "from sklearn import decomposition\n",
        "from sklearn import datasets"
      ],
      "execution_count": 0,
      "outputs": []
    },
    {
      "cell_type": "code",
      "metadata": {
        "id": "iwbSnw3Y2VW9",
        "colab_type": "code",
        "colab": {}
      },
      "source": [
        "from sklearn.preprocessing import StandardScaler\n",
        "scaler = StandardScaler()\n",
        "# Fit on training set only.\n",
        "scaler.fit(x_train)\n",
        "# Apply transform to both the training set and the test set.\n",
        "x2_train = scaler.transform(x_train)\n",
        "x2_test = scaler.transform(x_test)\n",
        "\n",
        "from sklearn.decomposition import PCA\n",
        "# Make an instance of the Model\n",
        "pca = PCA(.95)\n",
        "\n",
        "#Fit x_train\n",
        "pca.fit(x2_train)\n",
        "\n",
        "#transform both training and test\n",
        "x2_train= pca.transform(x2_train)\n",
        "x2_test = pca.transform(x2_test)\n"
      ],
      "execution_count": 0,
      "outputs": []
    },
    {
      "cell_type": "code",
      "metadata": {
        "id": "k1qCw7HQ2dK8",
        "colab_type": "code",
        "colab": {}
      },
      "source": [
        "import pandas as pd\n",
        "import numpy as np\n",
        "from sklearn.model_selection import train_test_split\n",
        "from sklearn.ensemble import RandomForestClassifier\n",
        "from sklearn.model_selection import RandomizedSearchCV\n",
        "from sklearn.model_selection import cross_val_score\n",
        "from sklearn.metrics import classification_report, confusion_matrix"
      ],
      "execution_count": 0,
      "outputs": []
    },
    {
      "cell_type": "code",
      "metadata": {
        "id": "6u12h_o62eyH",
        "colab_type": "code",
        "colab": {}
      },
      "source": [
        "# create the random forest model\n",
        "from sklearn import model_selection\n",
        "# random forest model creation\n",
        "rfc = RandomForestClassifier()\n",
        "rfc.fit(x2_train,y2_train)\n",
        "# predictions\n",
        "rfc_predict = rfc.predict(x2_test)\n",
        "\n",
        "#run cross-validation to get a better overview of the results\n",
        "rfc_cv_score = cross_val_score(rfc, x2_test, y2_test, cv=5, scoring='roc_auc')\n",
        "\n",
        "print(\"=== Confusion Matrix ===\")\n",
        "print(confusion_matrix(y2_test, rfc_predict))\n",
        "print('\\n')\n",
        "print(\"=== Classification Report ===\")\n",
        "print(classification_report(y2_test, rfc_predict))\n",
        "print('\\n')\n",
        "print(\"=== All AUC Scores ===\")\n",
        "print(rfc_cv_score)\n",
        "print('\\n')\n",
        "print(\"=== Mean AUC Score ===\")\n",
        "print(\"Mean AUC Score - Random Forest: \", rfc_cv_score.mean())\n",
        "\n",
        "CM = confusion_matrix(y2_test, rfc_predict)\n",
        "\n",
        "TN = CM[0][0]\n",
        "FN = CM[1][0]\n",
        "TP = CM[1][1]\n",
        "FP = CM[0][1]"
      ],
      "execution_count": 0,
      "outputs": []
    },
    {
      "cell_type": "markdown",
      "metadata": {
        "id": "ibrFh5D1nI0h",
        "colab_type": "text"
      },
      "source": [
        "# Ada Boost"
      ]
    },
    {
      "cell_type": "code",
      "metadata": {
        "id": "QGwakS3Dr0vY",
        "colab_type": "code",
        "colab": {}
      },
      "source": [
        "# load libraries\n",
        "from sklearn.ensemble import AdaBoostClassifier\n",
        "from sklearn import datasets\n",
        "\n",
        "#import train_test_split function \n",
        "from sklearn.model_selection import train_test_split\n",
        "\n",
        "#import scikit learn metrics for accuracy calc\n",
        "from sklearn import metrics"
      ],
      "execution_count": 0,
      "outputs": []
    },
    {
      "cell_type": "code",
      "metadata": {
        "id": "r6CdUOqTr3VN",
        "colab_type": "code",
        "colab": {}
      },
      "source": [
        "import pandas as pd\n",
        "data = pd.read_csv('/content/drive/My Drive/Colab Notebooks/My seagate workbooks/Copy of smote_training_data.csv')\n",
        "data_test = pd.read_csv('/content/drive/My Drive/Colab Notebooks/My seagate workbooks/test_data.csv')"
      ],
      "execution_count": 0,
      "outputs": []
    },
    {
      "cell_type": "code",
      "metadata": {
        "id": "hCYgGirfr5ja",
        "colab_type": "code",
        "colab": {}
      },
      "source": [
        "X = data[['drive_interface','run_type','motor_vend_id_3','motor_vend_id_5','motor_vend_id_6','motor_vend_id_8','motor_vend_id_M',\n",
        "          'motor_vend_id_N','motor_vend_id_P','motor_vend_id_Z','drive_part_number_1','drive_part_number_2',\n",
        "          'drive_part_number_3', 'drive_part_number_4', 'drive_part_number_5', 'motor_lot_1','motor_lot_2',\n",
        "          'motor_lot_3','motor_lot_4','motor_lot_5','dpg_2KH103','dpg_2KH113','dpg_2KH133','dpg_2KH203',\n",
        "          'dpg_2KH213','dpg_2KH233','dpg_2KK103','dpg_2L2103','dpg_2P2113','dpg_2RK202','dpg_2RP102',\n",
        "          'dpg_2RV103','dpg_2RW103','mtrprm2_parameter1','mtrprm2_parameter3','mtrprm3_parameter1',\n",
        "          'mtrprm4_parameter1','mtrprm6_parameter1','mtrprm8_parameter1','mtrprm8_parameter2','mtrprm9_parameter1','mtrprm9_parameter2','mtrprm9_parameter3',\n",
        "          'mtrprm11_parameter1','mtrprm12_parameter1','mtrprm15_parameter1','mtrprm20_parameter1',\n",
        "          'mtrprm21_parameter2','mtrprm24_parameter3','hkpinp2_parameter1',\n",
        "          'hkpinp3_parameter1','hkpinp4_parameter1','hkpinp4_parameter3','hkpinp4_parameter5',\n",
        "          'hkpinp4_parameter7','hkpinp4_parameter9','hkpinp4_parameter11',\n",
        "          'hkpinp4_parameter13','hkpinp4_parameter15','hkpinp4_parameter17']]\n",
        "y = data['target']\n",
        "X_test= data_test[['drive_interface','run_type','motor_vend_id_3','motor_vend_id_5','motor_vend_id_6','motor_vend_id_8','motor_vend_id_M',\n",
        "          'motor_vend_id_N','motor_vend_id_P','motor_vend_id_Z','drive_part_number_1','drive_part_number_2',\n",
        "          'drive_part_number_3', 'drive_part_number_4', 'drive_part_number_5', 'motor_lot_1','motor_lot_2',\n",
        "          'motor_lot_3','motor_lot_4','motor_lot_5','dpg_2KH103','dpg_2KH113','dpg_2KH133','dpg_2KH203',\n",
        "          'dpg_2KH213','dpg_2KH233','dpg_2KK103','dpg_2L2103','dpg_2P2113','dpg_2RK202','dpg_2RP102',\n",
        "          'dpg_2RV103','dpg_2RW103','mtrprm2_parameter1','mtrprm2_parameter3','mtrprm3_parameter1',\n",
        "          'mtrprm4_parameter1','mtrprm6_parameter1','mtrprm8_parameter1','mtrprm8_parameter2','mtrprm9_parameter1','mtrprm9_parameter2','mtrprm9_parameter3',\n",
        "          'mtrprm11_parameter1','mtrprm12_parameter1','mtrprm15_parameter1','mtrprm20_parameter1',\n",
        "          'mtrprm21_parameter2','mtrprm24_parameter3','hkpinp2_parameter1',\n",
        "          'hkpinp3_parameter1','hkpinp4_parameter1','hkpinp4_parameter3','hkpinp4_parameter5',\n",
        "          'hkpinp4_parameter7','hkpinp4_parameter9','hkpinp4_parameter11',\n",
        "          'hkpinp4_parameter13','hkpinp4_parameter15','hkpinp4_parameter17']]\n",
        "y_test = data_test['target']"
      ],
      "execution_count": 0,
      "outputs": []
    },
    {
      "cell_type": "code",
      "metadata": {
        "id": "z_UafZ3sr7wE",
        "colab_type": "code",
        "colab": {}
      },
      "source": [
        "#split the dataset into training set and test \n",
        "#X_train, X_test, y_train, y_test = train_test_split(X, y, test_size=0.4) # 70% training and 30% test\n",
        "X_train = X\n",
        "y_train = y\n",
        "X_test = X_test\n",
        "y_test = y_test"
      ],
      "execution_count": 0,
      "outputs": []
    },
    {
      "cell_type": "code",
      "metadata": {
        "id": "ZyPJwXTKr98M",
        "colab_type": "code",
        "colab": {}
      },
      "source": [
        "from sklearn.model_selection import GridSearchCV\n",
        "import matplotlib. pyplot as plt"
      ],
      "execution_count": 0,
      "outputs": []
    },
    {
      "cell_type": "code",
      "metadata": {
        "id": "h7osu-1psBYE",
        "colab_type": "code",
        "colab": {}
      },
      "source": [
        "ada=AdaBoostClassifier()\n",
        "search_grid={'n_estimators':[100,300,500,800,1000,1200],'learning_rate':[0.01,0.05,0.1,0.3,1]}\n",
        "search=GridSearchCV(estimator=ada,param_grid=search_grid,scoring='accuracy',n_jobs=1,cv=3)"
      ],
      "execution_count": 0,
      "outputs": []
    },
    {
      "cell_type": "code",
      "metadata": {
        "id": "yXL88LBYsDHP",
        "colab_type": "code",
        "colab": {}
      },
      "source": [
        "search.fit(X_train,y_train)"
      ],
      "execution_count": 0,
      "outputs": []
    },
    {
      "cell_type": "code",
      "metadata": {
        "id": "vnti1EhFsEQy",
        "colab_type": "code",
        "colab": {}
      },
      "source": [
        "print(search.best_params_)\n",
        "print(search.best_score_)"
      ],
      "execution_count": 0,
      "outputs": []
    },
    {
      "cell_type": "code",
      "metadata": {
        "id": "1TDQhp-TsGqH",
        "colab_type": "code",
        "colab": {}
      },
      "source": [
        "# Create adaboost classifer object\n",
        "abc = AdaBoostClassifier(n_estimators=800,learning_rate=.1)  # n estimators is number of trees you want to build before taking maximum voting or average of predictions \n",
        "\n",
        "# Train Adaboost Classifer\n",
        "model = abc.fit(X_train, y_train)\n",
        "\n",
        "#Predict the response for test dataset\n",
        "y_pred = model.predict(X_test)"
      ],
      "execution_count": 0,
      "outputs": []
    },
    {
      "cell_type": "code",
      "metadata": {
        "id": "7qBgWazisHd9",
        "colab_type": "code",
        "colab": {}
      },
      "source": [
        "from sklearn.metrics import confusion_matrix\n",
        "from sklearn.metrics import accuracy_score\n",
        "from sklearn.metrics import classification_report\n",
        "\n",
        "metrics.confusion_matrix(y_test, y_pred, labels=None, sample_weight=None, normalize=None)"
      ],
      "execution_count": 0,
      "outputs": []
    },
    {
      "cell_type": "code",
      "metadata": {
        "id": "e0mKIGcDsMDi",
        "colab_type": "code",
        "colab": {}
      },
      "source": [
        "#Evaluation of Model - Confusion Matrix Plot\n",
        "def plot_confusion_matrix(cm, classes,\n",
        "                          normalize=False,\n",
        "                          title='Confusion matrix',\n",
        "                          cmap=plt.cm.Blues):\n",
        "    \"\"\"\n",
        "    This function prints and plots the confusion matrix.\n",
        "    Normalization can be applied by setting `normalize=True`.\n",
        "    \"\"\"\n",
        "    if normalize:\n",
        "        cm = cm.astype('float') / cm.sum(axis=1)[:, np.newaxis]\n",
        "        print(\"Normalized confusion matrix\")\n",
        "    else:\n",
        "        print('Confusion matrix, without normalization')\n",
        "\n",
        "    print(cm)\n",
        "\n",
        "    plt.imshow(cm, interpolation='nearest', cmap=cmap)\n",
        "    plt.title(title)\n",
        "    plt.colorbar()\n",
        "    tick_marks = np.arange(len(classes))\n",
        "    plt.xticks(tick_marks, classes, rotation=45)\n",
        "    plt.yticks(tick_marks, classes)\n",
        "\n",
        "    fmt = '.2f' if normalize else 'd'\n",
        "    thresh = cm.max() / 2.\n",
        "    for i, j in itertools.product(range(cm.shape[0]), range(cm.shape[1])):\n",
        "        plt.text(j, i, format(cm[i, j], fmt),\n",
        "                 horizontalalignment=\"center\",\n",
        "                 color=\"white\" if cm[i, j] > thresh else \"black\")\n",
        "\n",
        "    plt.ylabel('True label')\n",
        "    plt.xlabel('Predicted label')\n",
        "    plt.tight_layout()\n",
        "\n",
        "\n",
        "# Compute confusion matrix\n",
        "cnf_matrix = confusion_matrix(y_test, y_pred)\n",
        "np.set_printoptions(precision=2)\n",
        "\n",
        "# Plot non-normalized confusion matrix\n",
        "plt.figure()\n",
        "plot_confusion_matrix(cnf_matrix, classes=['Forged','Authorized'],\n",
        "                      title='Confusion matrix, without normalization')"
      ],
      "execution_count": 0,
      "outputs": []
    },
    {
      "cell_type": "code",
      "metadata": {
        "id": "fuvF7IWrsM0t",
        "colab_type": "code",
        "colab": {}
      },
      "source": [
        "#extracting true_positives, false_positives, true_negatives, false_negatives\n",
        "tn, fp, fn, tp = confusion_matrix(y_test, y_pred).ravel()\n",
        "print(\"True Negatives: \",tn)\n",
        "print(\"False Positives: \",fp)\n",
        "print(\"False Negatives: \",fn)\n",
        "print(\"True Positives: \",tp)"
      ],
      "execution_count": 0,
      "outputs": []
    },
    {
      "cell_type": "code",
      "metadata": {
        "id": "6_w19OOUsPsp",
        "colab_type": "code",
        "colab": {}
      },
      "source": [
        "#Accuracy\n",
        "Accuracy = (tn+tp)*100/(tp+tn+fp+fn) \n",
        "print(\"Accuracy {:0.2f}%:\",.format(Accuracy))\n",
        "#Precision \n",
        "Precision = tp/(tp+fp) \n",
        "print(\"Precision {:0.2f}\".format(Precision))\n",
        "#Recall \n",
        "Recall = tp/(tp+fn) \n",
        "print(\"Recall {:0.2f}\".format(Recall))\n",
        "#F1 Score\n",
        "f1 = (2*Precision*Recall)/(Precision + Recall)\n",
        "print(\"F1 Score {:0.2f}\".format(f1))\n",
        "#Specificity \n",
        "Specificity = tn/(tn+fp)\n",
        "print(\"Specificity {:0.2f}\".format(Specificity))"
      ],
      "execution_count": 0,
      "outputs": []
    },
    {
      "cell_type": "code",
      "metadata": {
        "id": "dMcof8g7sQXP",
        "colab_type": "code",
        "colab": {}
      },
      "source": [
        "# Load libraries\n",
        "from sklearn.ensemble import AdaBoostClassifier\n",
        "\n",
        "# Import Support Vector Classifier\n",
        "from sklearn.svm import SVC\n",
        "#Import scikit-learn metrics module for accuracy calculation\n",
        "from sklearn import metrics\n",
        "svc=SVC(probability=True, kernel='linear')\n",
        "\n",
        "# Create adaboost classifer object\n",
        "abc =AdaBoostClassifier(n_estimators=50, base_estimator=svc,learning_rate=1)\n",
        "\n",
        "# Train Adaboost Classifer\n",
        "model = abc.fit(X_train, y_train)\n",
        "\n",
        "#Predict the response for test dataset\n",
        "y_pred = model.predict(X_test)\n",
        "\n",
        "\n",
        "# Model Accuracy, how often is the classifier correct?\n",
        "print(\"Accuracy:\",metrics.accuracy_score(y_test, y_pred))"
      ],
      "execution_count": 0,
      "outputs": []
    },
    {
      "cell_type": "markdown",
      "metadata": {
        "id": "tr6oBz95ztqV",
        "colab_type": "text"
      },
      "source": [
        "# Ada Boost with PCA"
      ]
    },
    {
      "cell_type": "code",
      "metadata": {
        "id": "pHrX9REWzway",
        "colab_type": "code",
        "colab": {}
      },
      "source": [
        "# load libraries\n",
        "from sklearn.ensemble import AdaBoostClassifier\n",
        "from sklearn import datasets\n",
        "from sklearn.model_selection import GridSearchCV\n",
        "from sklearn.ensemble import AdaBoostRegressor\n",
        "from sklearn.model_selection import RandomizedSearchCV\n",
        "\n",
        "from sklearn.ensemble import AdaBoostRegressor\n",
        "from sklearn.model_selection import RandomizedSearchCV\n",
        "\n",
        "param_dist = {\n",
        " 'n_estimators': [50, 100,200,300,400,500,600,700,800],\n",
        " 'learning_rate' : [0.01,0.05,0.1,0.3,1],\n",
        " 'loss' : ['linear', 'square', 'exponential']\n",
        " }\n",
        "\n",
        "pre_gs_inst = RandomizedSearchCV(AdaBoostRegressor(),\n",
        " param_distributions = param_dist,\n",
        " cv=3,\n",
        " n_iter = 100,\n",
        " n_jobs=-1)"
      ],
      "execution_count": 0,
      "outputs": []
    },
    {
      "cell_type": "code",
      "metadata": {
        "id": "-F7Iwt4uz066",
        "colab_type": "code",
        "colab": {}
      },
      "source": [
        "pre_gs_inst.fit(x_train, y_train)\n",
        "\n",
        "print(pre_gs_inst.best_params_)\n",
        "print(pre_gs_inst.best_score_)"
      ],
      "execution_count": 0,
      "outputs": []
    },
    {
      "cell_type": "code",
      "metadata": {
        "id": "Hgi9_E6_z5M5",
        "colab_type": "code",
        "colab": {}
      },
      "source": [
        "# Create adaboost classifer object\n",
        "abc = AdaBoostClassifier(n_estimators=800,learning_rate=.1)  # n estimators is number of trees you want to build before taking maximum voting or average of predictions \n",
        "\n",
        "# Train Adaboost Classifer\n",
        "model = abc.fit(x_train, y_train)\n",
        "\n",
        "#Predict the response for test dataset\n",
        "y_pred = model.predict(x2_test)\n",
        "\n",
        "metrics.confusion_matrix(y2_test, y_pred, labels=None, sample_weight=None, normalize=None)"
      ],
      "execution_count": 0,
      "outputs": []
    },
    {
      "cell_type": "markdown",
      "metadata": {
        "id": "QLBFAD55sTIY",
        "colab_type": "text"
      },
      "source": [
        "# Gradient Boosting"
      ]
    },
    {
      "cell_type": "code",
      "metadata": {
        "id": "8sZy-frwsUzw",
        "colab_type": "code",
        "colab": {}
      },
      "source": [
        "import pandas as pd\n",
        "from sklearn.preprocessing import MinMaxScaler\n",
        "from sklearn.model_selection import train_test_split\n",
        "from sklearn.metrics import classification_report, confusion_matrix, roc_curve, auc\n",
        "from sklearn.ensemble import GradientBoostingClassifier"
      ],
      "execution_count": 0,
      "outputs": []
    },
    {
      "cell_type": "code",
      "metadata": {
        "id": "8CuFvbv7sXEw",
        "colab_type": "code",
        "colab": {}
      },
      "source": [
        "train_data = pd.read_csv(\"/Users/cassidy/OneDrive - UCB-O365/smote_training_data.csv\")\n",
        "val_data = pd.read_csv(\"/Users/cassidy/OneDrive - UCB-O365/validate_imputed_unscaled.csv\")\n",
        "\n",
        "train_data.drop(columns=[\"Unnamed: 0\", 'event_date', 'mtrprm_ship_date', 'dpg_2T7223'], axis=1, inplace=True)\n",
        "val_data.drop(columns=[\"Unnamed: 0\", 'event_date', 'mtrprm_ship_date', 'dpg_2T7223'], axis=1, inplace=True)"
      ],
      "execution_count": 0,
      "outputs": []
    },
    {
      "cell_type": "code",
      "metadata": {
        "id": "dlSB_olrsaWh",
        "colab_type": "code",
        "colab": {}
      },
      "source": [
        "# setting target variables, then removing from dataset\n",
        "y_train = train_data[\"target\"]\n",
        "train_data.drop(labels=\"target\", axis=1, inplace=True)\n",
        "\n",
        "y_val = val_data[\"target\"]\n",
        "val_data.drop(labels=\"target\", axis=1, inplace=True)"
      ],
      "execution_count": 0,
      "outputs": []
    },
    {
      "cell_type": "code",
      "metadata": {
        "id": "vN7KdZr8sf1B",
        "colab_type": "code",
        "colab": {}
      },
      "source": [
        "#scale data\n",
        "scaler = MinMaxScaler()\n",
        "\n",
        "X_train_scale = scaler.fit_transform(train_data)\n",
        "X_val_scale = scaler.transform(val_data)"
      ],
      "execution_count": 0,
      "outputs": []
    },
    {
      "cell_type": "code",
      "metadata": {
        "id": "rRoPV17psi3F",
        "colab_type": "code",
        "colab": {}
      },
      "source": [
        "# tuning attempt 1: trying different learning rates and comparing performance\n",
        "lr_list = [0.05, 0.075, 0.1, 0.25, 0.5, 0.75, 1]\n",
        "\n",
        "for learning_rate in lr_list:\n",
        "    gb = GradientBoostingClassifier(n_estimators=100, learning_rate=learning_rate, max_features=2, max_depth=2, random_state=0)\n",
        "    gb.fit(X_train_scale, y_train)\n",
        "    \n",
        "    print(\"Learning rate: \", learning_rate)\n",
        "    print(\"Accuracy score (training): {0:.3f}\".format(gb.score(X_train_scale, y_train)))\n",
        "    print(\"Accuracy score (validation): {0:.3f}\".format(gb.score(X_val_scale, y_val)))"
      ],
      "execution_count": 0,
      "outputs": []
    },
    {
      "cell_type": "code",
      "metadata": {
        "id": "1ggKbBH-sp04",
        "colab_type": "code",
        "colab": {}
      },
      "source": [
        "# trying 0.75 since we are trying to balance accuracy for both training and validation\n",
        "# validation is more important, so 0.75 gives high accuracy for validation while also maximizing \n",
        "# training accuracy as much as possible\n",
        "gb = GradientBoostingClassifier(n_estimators=20, learning_rate = 0.75, max_features = 2, max_depth = 2, random_state = 0)\n",
        "gb.fit(X_train_scale, y_train)\n",
        "predictions = gb.predict(X_val_scale)\n",
        "\n",
        "print(\"Confusion Matrix:\")\n",
        "print(confusion_matrix(y_val, predictions))\n",
        "print()\n",
        "print(\"Classification Report\")\n",
        "print(classification_report(y_val, predictions))"
      ],
      "execution_count": 0,
      "outputs": []
    },
    {
      "cell_type": "code",
      "metadata": {
        "id": "4KL4sO8-s2gu",
        "colab_type": "code",
        "colab": {}
      },
      "source": [
        "y_scores_gb = gb.decision_function(X_val_scale)\n",
        "fpr_gb, tpr_gb, _ = roc_curve(y_val, y_scores_gb)\n",
        "roc_auc_gb = auc(fpr_gb, tpr_gb)\n",
        "\n",
        "print(\"Area under ROC curve = {:0.2f}\".format(roc_auc_gb))"
      ],
      "execution_count": 0,
      "outputs": []
    },
    {
      "cell_type": "code",
      "metadata": {
        "id": "4pTNBhXAs3W5",
        "colab_type": "code",
        "colab": {}
      },
      "source": [
        "#Tuning attempt 2: now trying a different approach to find all the best parameters\n",
        "random_grid = {'loss':['deviance','exponential'],\n",
        "               'learning_rate':[0.05, 0.075, 0.1, 0.25, 0.5, 0.75, 1],\n",
        "               'n_estimators':[20,40,60,80,100,120],\n",
        "               'max_depth':[2,3,4],\n",
        "               'max_features':[2,10,20],\n",
        "              }"
      ],
      "execution_count": 0,
      "outputs": []
    },
    {
      "cell_type": "code",
      "metadata": {
        "id": "fzdph7WAs8ed",
        "colab_type": "code",
        "colab": {}
      },
      "source": [
        "from sklearn.model_selection import RandomizedSearchCV\n",
        "gbm_random = RandomizedSearchCV(estimator = GradientBoostingClassifier(), param_distributions = random_grid, n_iter=100, cv = 3, random_state = 0)"
      ],
      "execution_count": 0,
      "outputs": []
    },
    {
      "cell_type": "code",
      "metadata": {
        "id": "AP4cdTVPs-ir",
        "colab_type": "code",
        "colab": {}
      },
      "source": [
        "gbm_random.fit(X_train_scale, y_train)\n",
        "print(gbm_random.best_params_)"
      ],
      "execution_count": 0,
      "outputs": []
    },
    {
      "cell_type": "code",
      "metadata": {
        "id": "iNcFRgXztCcD",
        "colab_type": "code",
        "colab": {}
      },
      "source": [
        "gb = GradientBoostingClassifier(n_estimators=100, learning_rate = 1, max_features = 20, max_depth = 4, random_state = 0)\n",
        "gb.fit(X_train_scale, y_train)\n",
        "predictions = gb.predict(X_val_scale)\n",
        "\n",
        "print(\"Confusion Matrix:\")\n",
        "print(confusion_matrix(y_val, predictions))\n",
        "print()\n",
        "print(\"Classification Report\")\n",
        "print(classification_report(y_val, predictions))"
      ],
      "execution_count": 0,
      "outputs": []
    },
    {
      "cell_type": "code",
      "metadata": {
        "id": "fTcF6cYLtEDk",
        "colab_type": "code",
        "colab": {}
      },
      "source": [
        "y_scores_gb = gb.decision_function(X_val_scale)\n",
        "fpr_gb, tpr_gb, _ = roc_curve(y_val, y_scores_gb)\n",
        "roc_auc_gb = auc(fpr_gb, tpr_gb)\n",
        "\n",
        "print(\"Area under ROC curve = {:0.2f}\".format(roc_auc_gb))"
      ],
      "execution_count": 0,
      "outputs": []
    },
    {
      "cell_type": "code",
      "metadata": {
        "id": "YEhIK2kbtGIP",
        "colab_type": "code",
        "colab": {}
      },
      "source": [
        "# assessing model performance on test data\n",
        "train_data = pd.read_csv(\"/Users/cassidy/OneDrive - UCB-O365/smote_training_data.csv\")\n",
        "test_data = pd.read_csv(\"/Users/cassidy/OneDrive - UCB-O365/test_imputed_unscaled.csv\")\n",
        "\n",
        "train_data.drop(columns=[\"Unnamed: 0\", 'event_date', 'mtrprm_ship_date', 'dpg_2T7223'], axis=1, inplace=True)\n",
        "test_data.drop(columns=[\"Unnamed: 0\", 'event_date', 'mtrprm_ship_date', 'dpg_2T7223'], axis=1, inplace=True)"
      ],
      "execution_count": 0,
      "outputs": []
    },
    {
      "cell_type": "code",
      "metadata": {
        "id": "hzmAG2MgtJpe",
        "colab_type": "code",
        "colab": {}
      },
      "source": [
        "y_train = train_data[\"target\"]\n",
        "train_data.drop(labels=\"target\", axis=1, inplace=True)\n",
        "\n",
        "y_test = test_data[\"target\"]\n",
        "test_data.drop(labels=\"target\", axis=1, inplace=True)"
      ],
      "execution_count": 0,
      "outputs": []
    },
    {
      "cell_type": "code",
      "metadata": {
        "id": "Dlb63dyEtKVf",
        "colab_type": "code",
        "colab": {}
      },
      "source": [
        "scaler = MinMaxScaler()\n",
        "\n",
        "X_train_scale = scaler.fit_transform(train_data)\n",
        "X_test_scale = scaler.transform(test_data)"
      ],
      "execution_count": 0,
      "outputs": []
    },
    {
      "cell_type": "code",
      "metadata": {
        "id": "OChpihGNtLjl",
        "colab_type": "code",
        "colab": {}
      },
      "source": [
        "# model 1 (using .75 learning rate and keeping all other params the same during test)\n",
        "gb = GradientBoostingClassifier(n_estimators=20, learning_rate = 0.75, max_features = 2, max_depth = 2, random_state = 0)\n",
        "gb.fit(X_train_scale, y_train)\n",
        "predictions = gb.predict(X_test_scale)\n",
        "\n",
        "print(\"Confusion Matrix:\")\n",
        "print(confusion_matrix(y_test, predictions))\n",
        "print()\n",
        "print(\"Classification Report\")\n",
        "print(classification_report(y_test, predictions))"
      ],
      "execution_count": 0,
      "outputs": []
    },
    {
      "cell_type": "code",
      "metadata": {
        "id": "7-TWHC_EtRve",
        "colab_type": "code",
        "colab": {}
      },
      "source": [
        "y_scores_gb = gb.decision_function(X_test_scale)\n",
        "fpr_gb, tpr_gb, _ = roc_curve(y_test, y_scores_gb)\n",
        "roc_auc_gb = auc(fpr_gb, tpr_gb)\n",
        "\n",
        "print(\"Area under ROC curve = {:0.2f}\".format(roc_auc_gb))"
      ],
      "execution_count": 0,
      "outputs": []
    },
    {
      "cell_type": "code",
      "metadata": {
        "id": "-nRJnRDktT4T",
        "colab_type": "code",
        "colab": {}
      },
      "source": [
        "#model 2 (using all best hyperparameters)\n",
        "gb = GradientBoostingClassifier(n_estimators=120, learning_rate = 1, max_features = 20, max_depth = 4, random_state = 0)\n",
        "gb.fit(X_train_scale, y_train)\n",
        "predictions = gb.predict(X_test_scale)\n",
        "\n",
        "print(\"Confusion Matrix:\")\n",
        "print(confusion_matrix(y_test, predictions))\n",
        "print()\n",
        "print(\"Classification Report\")\n",
        "print(classification_report(y_test, predictions))"
      ],
      "execution_count": 0,
      "outputs": []
    },
    {
      "cell_type": "code",
      "metadata": {
        "id": "2c3ZlNPFtY3H",
        "colab_type": "code",
        "colab": {}
      },
      "source": [
        "y_scores_gb = gb.decision_function(X_test_scale)\n",
        "fpr_gb, tpr_gb, _ = roc_curve(y_test, y_scores_gb)\n",
        "roc_auc_gb = auc(fpr_gb, tpr_gb)\n",
        "\n",
        "print(\"Area under ROC curve = {:0.2f}\".format(roc_auc_gb))"
      ],
      "execution_count": 0,
      "outputs": []
    },
    {
      "cell_type": "markdown",
      "metadata": {
        "id": "I6Mc4qkiz8zt",
        "colab_type": "text"
      },
      "source": [
        "# Gradient Boosting with PCA"
      ]
    },
    {
      "cell_type": "code",
      "metadata": {
        "id": "yKnwdQ-sz_QZ",
        "colab_type": "code",
        "colab": {}
      },
      "source": [
        "import pandas as pd\n",
        "from sklearn.preprocessing import MinMaxScaler\n",
        "from sklearn.model_selection import train_test_split\n",
        "from sklearn.metrics import classification_report, confusion_matrix, roc_curve, auc\n",
        "from sklearn.ensemble import GradientBoostingClassifier"
      ],
      "execution_count": 0,
      "outputs": []
    },
    {
      "cell_type": "code",
      "metadata": {
        "id": "vqEcAOt00CfE",
        "colab_type": "code",
        "colab": {}
      },
      "source": [
        "gb = GradientBoostingClassifier(n_estimators=120, learning_rate = 1, max_features = 20, max_depth = 4, random_state = 0)\n",
        "gb.fit(x_train, y_train)\n",
        "predictions = gb.predict(x2_test)\n",
        "\n",
        "print(\"Confusion Matrix:\")\n",
        "print(confusion_matrix(y2_test, predictions))\n",
        "print()\n",
        "print(\"Classification Report\")\n",
        "print(classification_report(y2_test, predictions))"
      ],
      "execution_count": 0,
      "outputs": []
    }
  ]
}